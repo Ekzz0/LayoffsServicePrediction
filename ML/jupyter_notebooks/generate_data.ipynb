{
 "cells": [
  {
   "cell_type": "code",
   "execution_count": 5,
   "outputs": [],
   "source": [
    "import numpy as np\n",
    "import pandas as pd\n",
    "import seaborn as sns\n",
    "import matplotlib.pyplot as plt\n",
    "from datetime import datetime, timedelta\n",
    "import random\n",
    "import joblib"
   ],
   "metadata": {
    "collapsed": false,
    "pycharm": {
     "name": "#%%\n"
    }
   }
  },
  {
   "cell_type": "code",
   "execution_count": 6,
   "outputs": [],
   "source": [
    "# Установка начальных параметров\n",
    "random.seed(42)  # Зафиксируем seed для воспроизводимости результатов\n",
    "np.random.seed(42)\n",
    "num_samples = 3000  # Количество записей\n",
    "start_date = datetime(2023, 1, 1)  # Начальная дата\n",
    "work_hours_start = 9  # Начало рабочего дня\n",
    "work_hours_end = 17  # Конец рабочего дня\n",
    "time_to_read = 4  # Часы до прочтения\n",
    "stress_keywords = ['stress', 'deadline', 'overwork']  # Ключевые слова для стресса\n",
    "salary_change_keywords = ['salary', 'pay raise', 'compensation']  # Ключевые слова про изменение зарплаты\n",
    "vacation_keywords = ['vacation', 'leave', 'time off']  # Ключевые слова про отпуск\n",
    "\n",
    "# Генерация последовательных ID\n",
    "starting_id = 1000  # Начальное значение ID\n",
    "num_users = num_samples  # Количество пользователей\n",
    "\n",
    "user_ids = [starting_id + i for i in range(num_users)]"
   ],
   "metadata": {
    "collapsed": false,
    "pycharm": {
     "name": "#%%\n"
    }
   }
  },
  {
   "cell_type": "code",
   "execution_count": 7,
   "outputs": [
    {
     "name": "stdout",
     "output_type": "stream",
     "text": [
      "[0.37454012 0.95071431 0.73199394 ... 0.49808479 0.31148011 0.03212949]\n"
     ]
    }
   ],
   "source": [
    "# Генерация чисел в пропорциях 80% и 20%\n",
    "percent_greater_than_05 = 0.25  # Процент чисел больше 0.5\n",
    "\n",
    "# Создание массива чисел от 0 до 1\n",
    "numbers = np.random.rand(num_samples)\n",
    "\n",
    "# Определение количества чисел больше и меньше 0.5\n",
    "num_greater_than_05 = int(num_samples * percent_greater_than_05)\n",
    "num_less_than_05 = num_samples - num_greater_than_05\n",
    "\n",
    "# Установка значений\n",
    "numbers[num_greater_than_05:] *= 0.5  # Уменьшение чисел, начиная с определенного индекса\n",
    "\n",
    "# Пример значений\n",
    "print(numbers)\n",
    "\n",
    "# Целевая переменная\n",
    "resigned = numbers"
   ],
   "metadata": {
    "collapsed": false,
    "pycharm": {
     "name": "#%%\n"
    }
   }
  },
  {
   "cell_type": "code",
   "execution_count": 8,
   "outputs": [],
   "source": [
    "# Общее количество сообщений\n",
    "sent_messages = np.int32(10 + np.random.poisson(50, num_samples) * (0.57 * resigned + np.random.choice([0, 1], num_samples))) # Количество отправленных сообщений за период\n",
    "received_messages = 50 +  np.int32(0.23 * sent_messages + np.random.poisson(40, num_samples) * (0.57 * resigned + np.random.choice([0, 1], num_samples) )) # Количество полученных сообщений за период\n",
    "messages_outside_work_hours = np.int32(sent_messages * 0.13 * np.random.choice([0, 1], num_samples, p=[0.6, 0.4]) + sent_messages/max(sent_messages)) # Количество сообщений, отправленных вне рабочего дня\n",
    "send_frequency = np.int32(sent_messages * 0.07 + np.random.poisson(10, num_samples) + messages_outside_work_hours/max(messages_outside_work_hours)) # Частота отправки писем за период\n",
    "receive_frequency = np.int32(received_messages * 0.04 + np.random.normal(30, 5, num_samples)+ messages_outside_work_hours/max(messages_outside_work_hours)) # Частота получения писем за период\n",
    "sent_received_ratio = received_messages / (sent_messages + 1) # Соотношение количества полученных и отправленных сообщений"
   ],
   "metadata": {
    "collapsed": false,
    "pycharm": {
     "name": "#%%\n"
    }
   }
  },
  {
   "cell_type": "code",
   "execution_count": 9,
   "outputs": [],
   "source": [
    "# Характеристики сообщений\n",
    "recipients_in_sent = np.int32(0.04 * sent_messages + np.random.poisson(5, num_samples)) # Количество адресатов в отправляемых сообщениях\n",
    "hidden_copy  = np.int32(0.9 * recipients_in_sent * np.random.exponential(0.4, num_samples) + sent_messages/max(sent_messages)) # Количество сообщений с адресатами в поле \"скрытая копия\"\n",
    "carbon_copy  = np.int32(0.3 * recipients_in_sent * np.random.exponential(0.5, num_samples) + sent_messages/max(sent_messages) + hidden_copy/max(hidden_copy)) # Количество сообщений с адресатами в поле \"копия\"\n",
    "text_length = np.int32(np.log(sent_messages + 1) * np.random.lognormal(3, 1, num_samples) + 0.7 * received_messages) # Количество символов текста в исходящих сообщениях\n",
    "bytes_ratio = 0.03 * sent_received_ratio +  np.random.uniform(0.5, 2.0, num_samples)  # Соотношение объема в байтах получаемых и отправляемых сообщений\n",
    "question_marks = np.int32(1 * 5 * text_length/max(text_length) * np.random.exponential(3, num_samples)) # Количество входящих сообщений с вопросительными знаками, на которые не был направлен ответ"
   ],
   "metadata": {
    "collapsed": false,
    "pycharm": {
     "name": "#%%\n"
    }
   }
  },
  {
   "cell_type": "code",
   "execution_count": 10,
   "outputs": [],
   "source": [
    "# Ответы и реакции\n",
    "answered_messages = np.int32(np.random.normal(20, 5, num_samples) + 10 * sent_messages/max(sent_messages)) #  Количество сообщений, на которые произведен ответ\n",
    "unanswered_messages = np.int32(np.random.uniform(0, 5, num_samples) * sent_messages * 0.01)  # Количество сообщений, на которые сотрудник не получил ответа\n",
    "unreplied_messages = np.int32(np.random.uniform(0, 5, num_samples) + 3.5 * received_messages/max(received_messages) + 2.1 * sent_messages/max(sent_messages) - 3.3 * answered_messages/max(answered_messages))  # Количество сообщений, на которые сотрудник сам не ответил"
   ],
   "metadata": {
    "collapsed": false,
    "pycharm": {
     "name": "#%%\n"
    }
   }
  },
  {
   "cell_type": "code",
   "execution_count": 11,
   "outputs": [],
   "source": [
    "# Типы взаимодействий и эмоции\n",
    "mention_colleagues = (np.random.poisson(3, num_samples) * np.random.choice([0, 1], num_samples) + (2.3 * sent_messages + 1.8 * received_messages)/max(received_messages)) * (0.23 * resigned + np.random.choice([0, 1], num_samples) ) # Частота упоминания коллег в письмах\n",
    "salary_change_info = np.random.choice([0, 1], num_samples) * (0.79 * resigned + np.random.choice([0, 1], num_samples) )  # Указание информации о изменении зарплаты\n",
    "vacation_info =  np.random.binomial(1, 0.7, num_samples) * (0.48 * resigned + np.random.choice([0, 1], num_samples) ) # Указание информации об отпуске\n",
    "polite_message = np.random.binomial(1, 0.3, num_samples) * (0.11 * resigned + np.random.choice([0, 1], num_samples) ) # Является ли сообщение вежливым\n",
    "mood_type =  np.random.binomial(1, 0.37, num_samples) * (0.37 * resigned + np.random.choice([0, 1], num_samples) ) # Настроение в сообщении\n",
    "stress_keywords =  np.random.binomial(1, 0.3, num_samples) * (0.29 * resigned + np.random.choice([0, 1], num_samples) ) # Есть ли стрессовые слова в сообщении?"
   ],
   "metadata": {
    "collapsed": false,
    "pycharm": {
     "name": "#%%\n"
    }
   }
  },
  {
   "cell_type": "code",
   "execution_count": 12,
   "outputs": [],
   "source": [
    "# Временные характеристики\n",
    "response_time = np.int32((np.random.normal(0.3, 0.5, num_samples) + 0.15 * sent_messages + 0.22 * received_messages +  0.15 *mood_type +  0.15 * stress_keywords +  0.15 * vacation_info +  0.15 * salary_change_info  +  0.15 * mention_colleagues )* np.random.uniform(0, 0.3, num_samples)) # Среднее время ответа на входящие сообщения\n",
    "late_read_messages = np.int32(np.random.normal(2, 1, num_samples) + np.random.uniform(-1, 1, num_samples) + 0.03 * received_messages) # Количество сообщений, прочитанных позднее времени получения на 4 часа\n",
    "days_between_received_read = np.int32((np.random.exponential(2, num_samples) + np.random.uniform(0, 1, num_samples) * 0.5*response_time + late_read_messages + 0.27 * received_messages + mood_type + stress_keywords + vacation_info + salary_change_info  + mention_colleagues) * np.random.uniform(0, 0.1, num_samples)) # Количество дней между датой получения и датой прочтения сообщения"
   ],
   "metadata": {
    "collapsed": false,
    "pycharm": {
     "name": "#%%\n"
    }
   }
  },
  {
   "cell_type": "code",
   "execution_count": 13,
   "outputs": [
    {
     "data": {
      "text/plain": "Resigned\n0    4374931\n1     625069\nName: count, dtype: int64"
     },
     "execution_count": 13,
     "metadata": {},
     "output_type": "execute_result"
    }
   ],
   "source": [
    "# Генерация случайных данных\n",
    "data = {\n",
    "    # ID:\n",
    "    'id': user_ids,\n",
    "\n",
    "    # Общее количество сообщений\n",
    "    'SentMessages': sent_messages,\n",
    "    'ReceivedMessages': received_messages,\n",
    "    'MessagesOutsideWorkHours': messages_outside_work_hours,\n",
    "    'SentFrequency': send_frequency,\n",
    "    'ReceivedFrequency': receive_frequency,\n",
    "    'sent_received_ratio': sent_received_ratio,\n",
    "\n",
    "    # Характеристики сообщений\n",
    "    'UniqueRecipients': recipients_in_sent,\n",
    "    'hidden_copy': hidden_copy,\n",
    "    'carbon_copy': carbon_copy,\n",
    "    'text_length': text_length,\n",
    "    'BytesSentReceivedRatio': bytes_ratio,\n",
    "    'question_marks': question_marks,\n",
    "    #\n",
    "    # Временные характеристики\n",
    "    'response_time': response_time,\n",
    "    'MessagesReadLater': late_read_messages,\n",
    "    'DaysBetweenReceivedAndRead': days_between_received_read,\n",
    "    #\n",
    "    # # Ответы и реакции\n",
    "    'answered_messages': answered_messages,\n",
    "    'unanswered_messages': unanswered_messages,\n",
    "    'unreplied_messages': unreplied_messages,\n",
    "    #\n",
    "    # Типы взаимодействий и эмоции\n",
    "    'mention_colleagues': mention_colleagues,\n",
    "    'MoodType': mood_type,\n",
    "    'StressKeywordsPresent': stress_keywords,\n",
    "    'SalaryChangeMentioned':salary_change_info,\n",
    "    'VacationMentioned': vacation_info,\n",
    "    'polite_message': polite_message,\n",
    "\n",
    "    # Целевая переменная\n",
    "    'Resigned': resigned  # Целевая переменная (0 - не уволился, 1 - уволился)\n",
    "}\n",
    "\n",
    "# Создание DataFrame из сгенерированных данных\n",
    "df = pd.DataFrame(data)\n",
    "\n",
    "# # Добавление временных меток сообщений\n",
    "# date_list = [start_date + timedelta(days=random.randint(0, 365)) for _ in range(num_samples)]\n",
    "# time_list = [random.randint(0, 23) for _ in range(num_samples)]\n",
    "# df['MessageDateTime'] = [date + timedelta(hours=time) for date, time in zip(date_list, time_list)]\n",
    "\n",
    "\n",
    "df['Resigned'] = [1 if i >= 0.5 else 0 for i in df['Resigned']]\n",
    "df['Resigned'].value_counts()"
   ],
   "metadata": {
    "collapsed": false,
    "pycharm": {
     "name": "#%%\n"
    }
   }
  },
  {
   "cell_type": "code",
   "execution_count": 14,
   "outputs": [],
   "source": [
    "# Типы взаимодействий и эмоции\n",
    "df['mention_colleagues'] = [1 if i >= 0.5 else 0 for i in df['mention_colleagues']]\n",
    "df['MoodType'] = [1 if i >= 0.3 else 0 for i in df['MoodType']]\n",
    "df['StressKeywordsPresent'] = [1 if i >= 0.2 else 0 for i in df['StressKeywordsPresent']]\n",
    "df['SalaryChangeMentioned'] = [1 if i >= 0.5 else 0 for i in df['SalaryChangeMentioned']]\n",
    "df['VacationMentioned'] = [1 if i >= 0.3 else 0 for i in df['VacationMentioned']]\n",
    "df['polite_message'] = [1 if i >= 0.25 else 0 for i in df['polite_message']]"
   ],
   "metadata": {
    "collapsed": false,
    "pycharm": {
     "name": "#%%\n"
    }
   }
  },
  {
   "cell_type": "code",
   "execution_count": 15,
   "outputs": [],
   "source": [
    "# # Проверим корреляции\n",
    "# correlation_matrix = df.drop(columns=['id']).corr()\n",
    "#\n",
    "# plt.figure(figsize=(30,20))\n",
    "# sns.set(font_scale=1.15)\n",
    "# sns.heatmap(correlation_matrix,\n",
    "#             cmap='RdBu_r', # задаёт цветовую схему\n",
    "#             annot=True, # рисует значения внутри ячеек\n",
    "#             vmin=-1, vmax=1,\n",
    "#             mask=np.triu(correlation_matrix))"
   ],
   "metadata": {
    "collapsed": false,
    "pycharm": {
     "name": "#%%\n"
    }
   }
  },
  {
   "cell_type": "code",
   "execution_count": 16,
   "outputs": [],
   "source": [
    "# cols = ['mention_colleagues', 'MoodType', 'StressKeywordsPresent', 'SalaryChangeMentioned', 'VacationMentioned',  'polite_message',\n",
    "#         'BytesSentReceivedRatio', 'question_marks']\n",
    "# for col in cols:\n",
    "#     print(df[col].value_counts())\n",
    "#     # sns.displot(df, x=col, binwidth=3)\n",
    "#     # plt.show()"
   ],
   "metadata": {
    "collapsed": false,
    "pycharm": {
     "name": "#%%\n"
    }
   }
  },
  {
   "cell_type": "code",
   "execution_count": 17,
   "outputs": [],
   "source": [
    "# df.hist(figsize=(30, 20))"
   ],
   "metadata": {
    "collapsed": false,
    "pycharm": {
     "name": "#%%\n"
    }
   }
  },
  {
   "cell_type": "code",
   "execution_count": 18,
   "outputs": [
    {
     "data": {
      "text/plain": "['../data/bin_f']"
     },
     "execution_count": 18,
     "metadata": {},
     "output_type": "execute_result"
    }
   ],
   "source": [
    "num_f = ['SentMessages', 'ReceivedMessages',\n",
    "          'SentFrequency', 'ReceivedFrequency', 'sent_received_ratio',\n",
    "          'UniqueRecipients', 'text_length',\n",
    "          'BytesSentReceivedRatio']\n",
    "joblib.dump(num_f, f'../data/num_f')\n",
    "\n",
    "count_f = ['MessagesOutsideWorkHours', 'hidden_copy', 'carbon_copy', 'question_marks', 'response_time',\n",
    "          'MessagesReadLater', 'DaysBetweenReceivedAndRead', 'answered_messages',\n",
    "          'unanswered_messages', 'unreplied_messages']\n",
    "joblib.dump(count_f, f'../data/count_f')\n",
    "\n",
    "bin_f = ['mention_colleagues',\n",
    "             'MoodType', 'StressKeywordsPresent', 'SalaryChangeMentioned',\n",
    "             'VacationMentioned', 'polite_message']\n",
    "joblib.dump(bin_f, f'../data/bin_f')\n"
   ],
   "metadata": {
    "collapsed": false,
    "pycharm": {
     "name": "#%%\n"
    }
   }
  },
  {
   "cell_type": "code",
   "execution_count": 19,
   "outputs": [],
   "source": [
    "def rand_group(x):\n",
    "    return random.randint(1, 5)\n",
    "\n",
    "groups_to_replace = {1: 'Development Department', 2: 'Quality Assurance', 3: 'IT Infrastructure', 4: 'Sales and Marketing', 5: 'Research and Development'}\n",
    "\n",
    "df['Group'] = 0\n",
    "df['Group'] = df['Group'].apply(rand_group).replace(groups_to_replace)"
   ],
   "metadata": {
    "collapsed": false,
    "pycharm": {
     "name": "#%%\n"
    }
   }
  },
  {
   "cell_type": "code",
   "execution_count": 20,
   "outputs": [],
   "source": [
    "# def rand_gender(x):\n",
    "#     return random.randint(1, 2)\n",
    "#\n",
    "# groups_to_replace = {1: 'Male', 2: 'Female'}\n",
    "#\n",
    "# df['Gender'] = 0\n",
    "# df['Gender'] = df['Gender'].apply(rand_gender).replace(groups_to_replace)"
   ],
   "metadata": {
    "collapsed": false,
    "pycharm": {
     "name": "#%%\n"
    }
   }
  },
  {
   "cell_type": "code",
   "execution_count": 21,
   "outputs": [
    {
     "data": {
      "text/plain": "['../data/cols_full']"
     },
     "execution_count": 21,
     "metadata": {},
     "output_type": "execute_result"
    }
   ],
   "source": [
    "cols_to_drop = ['Group']\n",
    "# Сохранение в файл\n",
    "filename = f'../data/cols_to_drop'\n",
    "\n",
    "joblib.dump(cols_to_drop, filename)\n",
    "\n",
    "cols_full = list(df.columns)\n",
    "# Сохранение в файл\n",
    "filename = f'../data/cols_full'\n",
    "\n",
    "joblib.dump(cols_full, filename)"
   ],
   "metadata": {
    "collapsed": false,
    "pycharm": {
     "name": "#%%\n"
    }
   }
  },
  {
   "cell_type": "code",
   "execution_count": 22,
   "outputs": [],
   "source": [
    "sample = df.sample(n=50, random_state=42).drop(columns=['Resigned'])\n",
    "sample.index = range(len(sample))\n",
    "sample.to_csv('../data/test_big.csv')\n",
    "\n",
    "df = df.drop(index=sample.index)\n",
    "df.to_csv('../data/train_big.csv')"
   ],
   "metadata": {
    "collapsed": false,
    "pycharm": {
     "name": "#%%\n"
    }
   }
  },
  {
   "cell_type": "code",
   "execution_count": 23,
   "outputs": [
    {
     "data": {
      "text/plain": "Index(['id', 'SentMessages', 'ReceivedMessages', 'MessagesOutsideWorkHours',\n       'SentFrequency', 'ReceivedFrequency', 'sent_received_ratio',\n       'UniqueRecipients', 'hidden_copy', 'carbon_copy', 'text_length',\n       'BytesSentReceivedRatio', 'question_marks', 'response_time',\n       'MessagesReadLater', 'DaysBetweenReceivedAndRead', 'answered_messages',\n       'unanswered_messages', 'unreplied_messages', 'mention_colleagues',\n       'MoodType', 'StressKeywordsPresent', 'SalaryChangeMentioned',\n       'VacationMentioned', 'polite_message', 'Resigned', 'Group'],\n      dtype='object')"
     },
     "execution_count": 23,
     "metadata": {},
     "output_type": "execute_result"
    }
   ],
   "source": [
    "df.columns"
   ],
   "metadata": {
    "collapsed": false,
    "pycharm": {
     "name": "#%%\n"
    }
   }
  },
  {
   "cell_type": "code",
   "execution_count": 26,
   "outputs": [
    {
     "name": "stdout",
     "output_type": "stream",
     "text": [
      "C:\\Users\\S\\ML\\data\\bin_f\n"
     ]
    }
   ],
   "source": [
    "import pathlib\n",
    "from pathlib import Path\n",
    "\n",
    "#Получаем строку, содержащую путь к домашней директории:\n",
    "dir_path = pathlib.Path.home()\n",
    "\n",
    "# Объединяем полученную строку с недостающими частями пути\n",
    "path = Path(dir_path, 'ML','data', 'bin_f')\n",
    "\n",
    "# Выведем значение переменной path:\n",
    "print(str(path))"
   ],
   "metadata": {
    "collapsed": false,
    "pycharm": {
     "name": "#%%\n"
    }
   }
  },
  {
   "cell_type": "code",
   "execution_count": 25,
   "outputs": [
    {
     "name": "stdout",
     "output_type": "stream",
     "text": [
      "C:\\Users\\S\\PycharmProjects\\LayoffsServicePrediction\\ML\\jupyter_notebooks\\ML\\data\n"
     ]
    }
   ],
   "source": [
    "\n",
    "path = Path(pathlib.Path.cwd(), 'ML', 'data')\n",
    "\n",
    "# значение переменной path:\n",
    "print(str(path))"
   ],
   "metadata": {
    "collapsed": false,
    "pycharm": {
     "name": "#%%\n"
    }
   }
  },
  {
   "cell_type": "code",
   "execution_count": 29,
   "outputs": [
    {
     "name": "stdout",
     "output_type": "stream",
     "text": [
      "None\n"
     ]
    }
   ],
   "source": [
    "import os\n",
    "import sys\n",
    "\n",
    "print(sys.path.append(os.path.dirname(os.path.abspath('bin_f'))))"
   ],
   "metadata": {
    "collapsed": false,
    "pycharm": {
     "name": "#%%\n"
    }
   }
  },
  {
   "cell_type": "code",
   "execution_count": 32,
   "outputs": [
    {
     "ename": "NameError",
     "evalue": "name '__file__' is not defined",
     "output_type": "error",
     "traceback": [
      "\u001B[1;31m---------------------------------------------------------------------------\u001B[0m",
      "\u001B[1;31mNameError\u001B[0m                                 Traceback (most recent call last)",
      "Cell \u001B[1;32mIn[32], line 5\u001B[0m\n\u001B[0;32m      2\u001B[0m \u001B[38;5;28;01mimport\u001B[39;00m \u001B[38;5;21;01mos\u001B[39;00m\n\u001B[0;32m      4\u001B[0m \u001B[38;5;66;03m# Определение пути до текущего скрипта\u001B[39;00m\n\u001B[1;32m----> 5\u001B[0m current_dir \u001B[38;5;241m=\u001B[39m os\u001B[38;5;241m.\u001B[39mpath\u001B[38;5;241m.\u001B[39mdirname(os\u001B[38;5;241m.\u001B[39mpath\u001B[38;5;241m.\u001B[39mabspath(\u001B[38;5;18m__file__\u001B[39m))\n\u001B[0;32m      7\u001B[0m \u001B[38;5;66;03m# Определение относительного пути до файла данных\u001B[39;00m\n\u001B[0;32m      8\u001B[0m relative_path \u001B[38;5;241m=\u001B[39m \u001B[38;5;124m'\u001B[39m\u001B[38;5;124mdata/bin_f\u001B[39m\u001B[38;5;124m'\u001B[39m\n",
      "\u001B[1;31mNameError\u001B[0m: name '__file__' is not defined"
     ]
    }
   ],
   "source": [
    "import joblib\n",
    "import os\n",
    "\n",
    "# Определение пути до текущего скрипта\n",
    "current_dir = os.path.dirname(os.path.abspath(__file__))\n",
    "\n",
    "# Определение относительного пути до файла данных\n",
    "relative_path = 'data/bin_f'\n",
    "\n",
    "# Получение абсолютного пути из относительного\n",
    "absolute_path = os.path.join(current_dir, relative_path)\n",
    "\n",
    "# Загрузка данных с использованием абсолютного пути\n",
    "loaded_data = joblib.load(absolute_path)\n",
    "loaded_data"
   ],
   "metadata": {
    "collapsed": false,
    "pycharm": {
     "name": "#%%\n"
    }
   }
  },
  {
   "cell_type": "code",
   "execution_count": 33,
   "outputs": [
    {
     "name": "stdout",
     "output_type": "stream",
     "text": [
      "Текущая рабочая директория: C:\\Users\\S\\PycharmProjects\\LayoffsServicePrediction\\ML\\jupyter_notebooks\n"
     ]
    }
   ],
   "source": [
    "import os\n",
    "\n",
    "current_directory = os.getcwd()\n",
    "print(\"Текущая рабочая директория:\", current_directory)"
   ],
   "metadata": {
    "collapsed": false,
    "pycharm": {
     "name": "#%%\n"
    }
   }
  },
  {
   "cell_type": "code",
   "execution_count": 39,
   "outputs": [
    {
     "data": {
      "text/plain": "   0      col\n0  1  1, 2, 3\n1  2        0\n2  3        0",
      "text/html": "<div>\n<style scoped>\n    .dataframe tbody tr th:only-of-type {\n        vertical-align: middle;\n    }\n\n    .dataframe tbody tr th {\n        vertical-align: top;\n    }\n\n    .dataframe thead th {\n        text-align: right;\n    }\n</style>\n<table border=\"1\" class=\"dataframe\">\n  <thead>\n    <tr style=\"text-align: right;\">\n      <th></th>\n      <th>0</th>\n      <th>col</th>\n    </tr>\n  </thead>\n  <tbody>\n    <tr>\n      <th>0</th>\n      <td>1</td>\n      <td>1, 2, 3</td>\n    </tr>\n    <tr>\n      <th>1</th>\n      <td>2</td>\n      <td>0</td>\n    </tr>\n    <tr>\n      <th>2</th>\n      <td>3</td>\n      <td>0</td>\n    </tr>\n  </tbody>\n</table>\n</div>"
     },
     "execution_count": 39,
     "metadata": {},
     "output_type": "execute_result"
    }
   ],
   "source": [
    "d = pd.DataFrame([1, 2, 3])\n",
    "d['col'] = 0\n",
    "d['col'][0] = str([1, 2, 3])[1:-1]\n",
    "d"
   ],
   "metadata": {
    "collapsed": false,
    "pycharm": {
     "name": "#%%\n"
    }
   }
  },
  {
   "cell_type": "code",
   "execution_count": null,
   "outputs": [],
   "source": [],
   "metadata": {
    "collapsed": false,
    "pycharm": {
     "name": "#%%\n"
    }
   }
  }
 ],
 "metadata": {
  "kernelspec": {
   "display_name": "Python 3",
   "language": "python",
   "name": "python3"
  },
  "language_info": {
   "codemirror_mode": {
    "name": "ipython",
    "version": 2
   },
   "file_extension": ".py",
   "mimetype": "text/x-python",
   "name": "python",
   "nbconvert_exporter": "python",
   "pygments_lexer": "ipython2",
   "version": "2.7.6"
  }
 },
 "nbformat": 4,
 "nbformat_minor": 0
}