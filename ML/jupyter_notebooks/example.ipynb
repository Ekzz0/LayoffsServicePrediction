{
 "cells": [
  {
   "cell_type": "code",
   "execution_count": 1,
   "outputs": [],
   "source": [
    "import pandas as pd\n",
    "import ML.utils as ut"
   ],
   "metadata": {
    "collapsed": false,
    "pycharm": {
     "name": "#%%\n"
    }
   }
  },
  {
   "cell_type": "code",
   "execution_count": 2,
   "outputs": [],
   "source": [
    "# Генерация признаков\n",
    "path = \"./data/test.csv\"\n",
    "FeatureConstruct = ut.load_feature_constructor(path)\n",
    "test_data = FeatureConstruct.feature_construct()"
   ],
   "metadata": {
    "collapsed": false,
    "pycharm": {
     "name": "#%%\n"
    }
   }
  },
  {
   "cell_type": "code",
   "execution_count": 4,
   "outputs": [],
   "source": [
    "# Загрузка модели\n",
    "path = \"./models/RandomForest.pkl\"\n",
    "model = ut.load_model(path)"
   ],
   "metadata": {
    "collapsed": false,
    "pycharm": {
     "name": "#%%\n"
    }
   }
  },
  {
   "cell_type": "code",
   "execution_count": 4,
   "outputs": [],
   "source": [
    "# Обучение модели на каких-то новых данных:\n",
    "path = \"./data/train.csv\"\n",
    "train_data = pd.read_csv(path, index_col=0)\n",
    "model.fit(*ut.split_to_x_y(train_data, 'y'))\n",
    "model.save_model()"
   ],
   "metadata": {
    "collapsed": false,
    "pycharm": {
     "name": "#%%\n"
    }
   }
  },
  {
   "cell_type": "code",
   "execution_count": 5,
   "outputs": [
    {
     "ename": "KeyError",
     "evalue": "'1'",
     "output_type": "error",
     "traceback": [
      "\u001B[1;31m---------------------------------------------------------------------------\u001B[0m",
      "\u001B[1;31mKeyError\u001B[0m                                  Traceback (most recent call last)",
      "Cell \u001B[1;32mIn[5], line 2\u001B[0m\n\u001B[0;32m      1\u001B[0m \u001B[38;5;66;03m# Получение предикта\u001B[39;00m\n\u001B[1;32m----> 2\u001B[0m clf_report \u001B[38;5;241m=\u001B[39m model\u001B[38;5;241m.\u001B[39mpredict(\u001B[38;5;241m*\u001B[39mut\u001B[38;5;241m.\u001B[39msplit_to_x_y(test_data, \u001B[38;5;124m'\u001B[39m\u001B[38;5;124my\u001B[39m\u001B[38;5;124m'\u001B[39m))\n\u001B[0;32m      3\u001B[0m result \u001B[38;5;241m=\u001B[39m clf_report\u001B[38;5;241m.\u001B[39mpredict\n",
      "File \u001B[1;32m~\\PycharmProjects\\TermDepositClassificationService\\ML\\utils\\loaded_model.py:26\u001B[0m, in \u001B[0;36mLoadedModel.predict\u001B[1;34m(self, X, y)\u001B[0m\n\u001B[0;32m     23\u001B[0m f1 \u001B[38;5;241m=\u001B[39m f1_score(y_true\u001B[38;5;241m=\u001B[39my, y_pred\u001B[38;5;241m=\u001B[39mpredictions, average\u001B[38;5;241m=\u001B[39m\u001B[38;5;124m'\u001B[39m\u001B[38;5;124mweighted\u001B[39m\u001B[38;5;124m'\u001B[39m)\n\u001B[0;32m     24\u001B[0m precision \u001B[38;5;241m=\u001B[39m precision_score(y_true\u001B[38;5;241m=\u001B[39my, y_pred\u001B[38;5;241m=\u001B[39mpredictions, average\u001B[38;5;241m=\u001B[39m\u001B[38;5;124m'\u001B[39m\u001B[38;5;124mweighted\u001B[39m\u001B[38;5;124m'\u001B[39m)\n\u001B[1;32m---> 26\u001B[0m persons \u001B[38;5;241m=\u001B[39m [Person(probability\u001B[38;5;241m=\u001B[39mprobability, ID\u001B[38;5;241m=\u001B[39mID) \u001B[38;5;28;01mfor\u001B[39;00m ID, probability \u001B[38;5;129;01min\u001B[39;00m \u001B[38;5;28mzip\u001B[39m(pred\u001B[38;5;241m.\u001B[39mindex, pred[\u001B[38;5;124m'\u001B[39m\u001B[38;5;124m1\u001B[39m\u001B[38;5;124m'\u001B[39m]\u001B[38;5;241m.\u001B[39mvalues)]\n\u001B[0;32m     28\u001B[0m result \u001B[38;5;241m=\u001B[39m PersonsList(persons\u001B[38;5;241m=\u001B[39mpersons)\n\u001B[0;32m     30\u001B[0m \u001B[38;5;28;01mreturn\u001B[39;00m ModelPrediction(precision\u001B[38;5;241m=\u001B[39mprecision, recall\u001B[38;5;241m=\u001B[39mrecall, f1\u001B[38;5;241m=\u001B[39mf1, result\u001B[38;5;241m=\u001B[39mresult)\n",
      "File \u001B[1;32m~\\anaconda3\\envs\\ds_en\\Lib\\site-packages\\pandas\\core\\frame.py:3761\u001B[0m, in \u001B[0;36mDataFrame.__getitem__\u001B[1;34m(self, key)\u001B[0m\n\u001B[0;32m   3759\u001B[0m \u001B[38;5;28;01mif\u001B[39;00m \u001B[38;5;28mself\u001B[39m\u001B[38;5;241m.\u001B[39mcolumns\u001B[38;5;241m.\u001B[39mnlevels \u001B[38;5;241m>\u001B[39m \u001B[38;5;241m1\u001B[39m:\n\u001B[0;32m   3760\u001B[0m     \u001B[38;5;28;01mreturn\u001B[39;00m \u001B[38;5;28mself\u001B[39m\u001B[38;5;241m.\u001B[39m_getitem_multilevel(key)\n\u001B[1;32m-> 3761\u001B[0m indexer \u001B[38;5;241m=\u001B[39m \u001B[38;5;28mself\u001B[39m\u001B[38;5;241m.\u001B[39mcolumns\u001B[38;5;241m.\u001B[39mget_loc(key)\n\u001B[0;32m   3762\u001B[0m \u001B[38;5;28;01mif\u001B[39;00m is_integer(indexer):\n\u001B[0;32m   3763\u001B[0m     indexer \u001B[38;5;241m=\u001B[39m [indexer]\n",
      "File \u001B[1;32m~\\anaconda3\\envs\\ds_en\\Lib\\site-packages\\pandas\\core\\indexes\\range.py:349\u001B[0m, in \u001B[0;36mRangeIndex.get_loc\u001B[1;34m(self, key)\u001B[0m\n\u001B[0;32m    347\u001B[0m         \u001B[38;5;28;01mraise\u001B[39;00m \u001B[38;5;167;01mKeyError\u001B[39;00m(key) \u001B[38;5;28;01mfrom\u001B[39;00m \u001B[38;5;21;01merr\u001B[39;00m\n\u001B[0;32m    348\u001B[0m \u001B[38;5;28;01mif\u001B[39;00m \u001B[38;5;28misinstance\u001B[39m(key, Hashable):\n\u001B[1;32m--> 349\u001B[0m     \u001B[38;5;28;01mraise\u001B[39;00m \u001B[38;5;167;01mKeyError\u001B[39;00m(key)\n\u001B[0;32m    350\u001B[0m \u001B[38;5;28mself\u001B[39m\u001B[38;5;241m.\u001B[39m_check_indexing_error(key)\n\u001B[0;32m    351\u001B[0m \u001B[38;5;28;01mraise\u001B[39;00m \u001B[38;5;167;01mKeyError\u001B[39;00m(key)\n",
      "\u001B[1;31mKeyError\u001B[0m: '1'"
     ]
    }
   ],
   "source": [
    "# Получение предикта\n",
    "clf_report = model.predict(*ut.split_to_x_y(test_data, 'y'))\n",
    "result = clf_report.predict\n",
    "# clf_report.predict.to_csv('../result.csv', index_label='id')"
   ],
   "metadata": {
    "collapsed": false,
    "pycharm": {
     "name": "#%%\n"
    }
   }
  },
  {
   "cell_type": "markdown",
   "source": [
    "**0 = NO**, **1 = YES**"
   ],
   "metadata": {
    "collapsed": false,
    "pycharm": {
     "name": "#%% md\n"
    }
   }
  },
  {
   "cell_type": "code",
   "execution_count": 1,
   "outputs": [],
   "source": [
    "# result = pd.read_csv('../result.csv', index_col=0)\n",
    "# result"
   ],
   "metadata": {
    "collapsed": false,
    "pycharm": {
     "name": "#%%\n"
    }
   }
  },
  {
   "cell_type": "code",
   "execution_count": 70,
   "outputs": [],
   "source": [
    "persons = [Person(probability=probability, ID=ID) for ID, probability in zip(result.index, result['1'].values)]"
   ],
   "metadata": {
    "collapsed": false,
    "pycharm": {
     "name": "#%%\n"
    }
   }
  },
  {
   "cell_type": "code",
   "execution_count": 77,
   "outputs": [
    {
     "name": "stdout",
     "output_type": "stream",
     "text": [
      "[Person(probability=0.03, ID=20806), Person(probability=0.0, ID=32487), Person(probability=0.49, ID=6605), Person(probability=0.04, ID=27542), Person(probability=0.89, ID=37202), Person(probability=0.0, ID=323), Person(probability=0.01, ID=6431), Person(probability=0.53, ID=5383), Person(probability=0.69, ID=40964), Person(probability=0.21, ID=33399), Person(probability=0.0, ID=22468), Person(probability=0.01, ID=5566), Person(probability=0.06, ID=18863), Person(probability=0.88, ID=9941), Person(probability=0.0, ID=24357), Person(probability=0.23, ID=5091), Person(probability=0.02, ID=25242), Person(probability=0.01, ID=32450), Person(probability=0.75, ID=38954), Person(probability=0.19, ID=24300), Person(probability=0.03, ID=24838), Person(probability=0.24, ID=37784), Person(probability=0.33, ID=30354), Person(probability=0.08, ID=22720), Person(probability=0.75, ID=14461), Person(probability=0.0, ID=3312), Person(probability=0.25, ID=25924), Person(probability=0.02, ID=12964), Person(probability=0.01, ID=27349), Person(probability=0.61, ID=39367), Person(probability=0.02, ID=32274), Person(probability=0.89, ID=41000), Person(probability=0.83, ID=37290), Person(probability=0.01, ID=9097), Person(probability=0.0, ID=19907), Person(probability=0.01, ID=22053), Person(probability=0.05, ID=26272), Person(probability=0.03, ID=9794), Person(probability=0.0, ID=17373), Person(probability=0.01, ID=18210), Person(probability=0.0, ID=6254), Person(probability=0.0, ID=13875), Person(probability=0.79, ID=15049), Person(probability=0.0, ID=5985), Person(probability=0.0, ID=3614), Person(probability=0.05, ID=27668), Person(probability=0.02, ID=26126), Person(probability=0.04, ID=8491), Person(probability=0.0, ID=22120), Person(probability=0.0, ID=1399), Person(probability=0.02, ID=22166), Person(probability=0.16, ID=40863), Person(probability=0.0, ID=25153), Person(probability=0.21, ID=29040), Person(probability=0.22, ID=7092), Person(probability=0.01, ID=14975), Person(probability=0.99, ID=39061), Person(probability=0.81, ID=30401), Person(probability=0.06, ID=35385), Person(probability=0.04, ID=3873), Person(probability=0.82, ID=37964), Person(probability=0.0, ID=24280), Person(probability=0.01, ID=6808), Person(probability=0.64, ID=40457), Person(probability=0.97, ID=23999), Person(probability=0.01, ID=13786), Person(probability=0.73, ID=13715), Person(probability=0.01, ID=616), Person(probability=0.0, ID=5727), Person(probability=0.02, ID=1091), Person(probability=0.03, ID=17338), Person(probability=0.01, ID=21515), Person(probability=0.01, ID=3960), Person(probability=0.0, ID=25500), Person(probability=0.01, ID=16229), Person(probability=0.21, ID=13764), Person(probability=0.37, ID=18562), Person(probability=0.85, ID=14805), Person(probability=0.1, ID=32429), Person(probability=0.0, ID=4699), Person(probability=0.0, ID=23370), Person(probability=0.41, ID=28308), Person(probability=0.76, ID=24894), Person(probability=0.01, ID=8862), Person(probability=0.91, ID=40762), Person(probability=0.0, ID=5402), Person(probability=0.21, ID=28128), Person(probability=0.42, ID=36160), Person(probability=0.0, ID=10516), Person(probability=0.12, ID=20512), Person(probability=0.01, ID=15031), Person(probability=0.65, ID=5619), Person(probability=0.19, ID=28807), Person(probability=0.0, ID=10636), Person(probability=0.9, ID=34721), Person(probability=0.0, ID=4844), Person(probability=0.0, ID=317), Person(probability=0.0, ID=1243), Person(probability=0.03, ID=21806), Person(probability=0.99, ID=39646), Person(probability=0.01, ID=23586), Person(probability=0.03, ID=7008), Person(probability=0.02, ID=27036), Person(probability=0.24, ID=29825), Person(probability=0.02, ID=22637), Person(probability=0.92, ID=38757), Person(probability=0.63, ID=36618), Person(probability=0.02, ID=21374), Person(probability=0.0, ID=8564), Person(probability=0.01, ID=24176), Person(probability=0.01, ID=21192), Person(probability=0.02, ID=20183), Person(probability=0.01, ID=6193), Person(probability=0.02, ID=7903), Person(probability=0.08, ID=34888), Person(probability=0.0, ID=2106), Person(probability=0.01, ID=27157), Person(probability=0.02, ID=25319), Person(probability=0.0, ID=14362), Person(probability=0.78, ID=29823), Person(probability=0.94, ID=30319), Person(probability=0.52, ID=31911), Person(probability=0.01, ID=2805), Person(probability=0.07, ID=34954), Person(probability=0.01, ID=6859), Person(probability=0.01, ID=2353), Person(probability=0.9, ID=15401), Person(probability=0.0, ID=10424), Person(probability=0.4, ID=28281), Person(probability=0.0, ID=429), Person(probability=0.25, ID=28824), Person(probability=0.71, ID=39022), Person(probability=0.91, ID=15877), Person(probability=0.01, ID=234), Person(probability=0.59, ID=5863), Person(probability=0.83, ID=38719), Person(probability=0.78, ID=29824), Person(probability=0.98, ID=40117), Person(probability=0.01, ID=10504), Person(probability=0.09, ID=35531), Person(probability=0.03, ID=16450), Person(probability=0.0, ID=16006), Person(probability=0.78, ID=30146), Person(probability=0.92, ID=17531), Person(probability=0.06, ID=21142), Person(probability=0.01, ID=18895), Person(probability=0.0, ID=978), Person(probability=0.48, ID=3320), Person(probability=0.07, ID=1201), Person(probability=0.65, ID=28304), Person(probability=0.03, ID=17471), Person(probability=0.01, ID=35264), Person(probability=0.01, ID=2019), Person(probability=0.01, ID=6033), Person(probability=0.02, ID=11033), Person(probability=0.13, ID=15497), Person(probability=0.02, ID=18430), Person(probability=0.03, ID=16608), Person(probability=0.89, ID=37702), Person(probability=0.9, ID=25453), Person(probability=0.67, ID=26175), Person(probability=0.01, ID=31061), Person(probability=0.76, ID=36598), Person(probability=0.33, ID=36180), Person(probability=0.84, ID=38277), Person(probability=0.03, ID=24702), Person(probability=0.02, ID=14896), Person(probability=0.0, ID=31808), Person(probability=0.02, ID=20411), Person(probability=0.0, ID=19398), Person(probability=0.01, ID=11634), Person(probability=0.0, ID=6740), Person(probability=0.1, ID=22112), Person(probability=0.08, ID=32870), Person(probability=0.93, ID=27807), Person(probability=0.58, ID=6662), Person(probability=0.02, ID=23395), Person(probability=0.04, ID=6090), Person(probability=0.93, ID=39394), Person(probability=0.97, ID=38034), Person(probability=0.0, ID=1335), Person(probability=0.61, ID=8535), Person(probability=0.01, ID=26200), Person(probability=0.0, ID=21391), Person(probability=0.06, ID=23125), Person(probability=0.5, ID=30610), Person(probability=0.0, ID=12525), Person(probability=0.0, ID=1063), Person(probability=0.03, ID=7465), Person(probability=0.29, ID=28126), Person(probability=0.39, ID=28705), Person(probability=0.12, ID=34194), Person(probability=0.0, ID=12488), Person(probability=0.02, ID=2902), Person(probability=0.95, ID=30803), Person(probability=0.0, ID=22371), Person(probability=0.01, ID=26831), Person(probability=0.01, ID=15932), Person(probability=0.01, ID=23441), Person(probability=0.07, ID=12552), Person(probability=0.99, ID=36960), Person(probability=0.01, ID=17904), Person(probability=0.91, ID=8948), Person(probability=0.01, ID=32158), Person(probability=0.86, ID=25787), Person(probability=0.82, ID=39977), Person(probability=0.01, ID=2333), Person(probability=0.0, ID=15756), Person(probability=0.33, ID=37600), Person(probability=0.51, ID=2192), Person(probability=0.93, ID=40617), Person(probability=0.0, ID=21688), Person(probability=0.01, ID=33356), Person(probability=0.01, ID=5482), Person(probability=0.81, ID=27468), Person(probability=0.04, ID=6283), Person(probability=0.02, ID=12799), Person(probability=0.22, ID=13670), Person(probability=0.01, ID=4954), Person(probability=0.76, ID=24641), Person(probability=0.01, ID=1776), Person(probability=0.02, ID=8357), Person(probability=0.76, ID=5525), Person(probability=0.0, ID=32837), Person(probability=0.02, ID=32866), Person(probability=0.01, ID=19580), Person(probability=0.72, ID=35395), Person(probability=0.0, ID=293), Person(probability=0.01, ID=33455), Person(probability=0.53, ID=19682), Person(probability=0.02, ID=24342), Person(probability=0.04, ID=7425), Person(probability=0.15, ID=13906), Person(probability=0.47, ID=37139), Person(probability=0.55, ID=37180), Person(probability=0.03, ID=5530), Person(probability=0.04, ID=20510), Person(probability=0.22, ID=29777), Person(probability=0.03, ID=7386), Person(probability=0.01, ID=26612), Person(probability=0.01, ID=8009), Person(probability=0.67, ID=28563), Person(probability=0.0, ID=3507), Person(probability=0.02, ID=31239), Person(probability=0.05, ID=26838), Person(probability=0.0, ID=24935), Person(probability=0.0, ID=13801), Person(probability=0.0, ID=10225), Person(probability=0.05, ID=26631), Person(probability=0.19, ID=34139), Person(probability=0.04, ID=14485), Person(probability=0.0, ID=5906), Person(probability=0.02, ID=33609), Person(probability=0.02, ID=20060), Person(probability=0.03, ID=17045), Person(probability=0.0, ID=22079), Person(probability=0.95, ID=35743), Person(probability=0.0, ID=15696), Person(probability=0.01, ID=9260), Person(probability=0.18, ID=20476), Person(probability=0.93, ID=35332), Person(probability=0.0, ID=8422), Person(probability=0.59, ID=38446), Person(probability=0.93, ID=27869), Person(probability=0.7, ID=36804), Person(probability=0.03, ID=6702), Person(probability=0.98, ID=39233), Person(probability=0.0, ID=19241), Person(probability=0.0, ID=11608), Person(probability=0.01, ID=6081), Person(probability=0.0, ID=1849), Person(probability=0.02, ID=24466), Person(probability=0.03, ID=23076), Person(probability=0.6, ID=29728), Person(probability=0.0, ID=3081), Person(probability=0.0, ID=9479), Person(probability=0.04, ID=1579), Person(probability=0.01, ID=17151), Person(probability=0.0, ID=24178), Person(probability=0.03, ID=26493), Person(probability=0.89, ID=36399), Person(probability=0.15, ID=31951), Person(probability=0.0, ID=14562), Person(probability=0.02, ID=23429), Person(probability=0.33, ID=2107), Person(probability=0.66, ID=37956), Person(probability=0.0, ID=2707), Person(probability=0.45, ID=9469), Person(probability=0.01, ID=5206), Person(probability=0.2, ID=19431), Person(probability=0.03, ID=16539), Person(probability=0.03, ID=11804), Person(probability=0.01, ID=22441), Person(probability=0.5, ID=28804), Person(probability=0.02, ID=9458), Person(probability=0.26, ID=34325), Person(probability=0.75, ID=36269), Person(probability=0.47, ID=38510), Person(probability=0.47, ID=16869), Person(probability=0.0, ID=1859), Person(probability=0.01, ID=3915), Person(probability=0.02, ID=19451), Person(probability=0.7, ID=22232), Person(probability=0.02, ID=17657), Person(probability=0.0, ID=592), Person(probability=0.04, ID=16756), Person(probability=0.17, ID=40503), Person(probability=0.04, ID=22608), Person(probability=0.23, ID=35582), Person(probability=0.23, ID=28037), Person(probability=0.02, ID=17386), Person(probability=0.02, ID=19578), Person(probability=0.85, ID=37681), Person(probability=0.45, ID=6233), Person(probability=0.02, ID=10970), Person(probability=0.42, ID=38215), Person(probability=0.0, ID=18421), Person(probability=0.97, ID=18147), Person(probability=0.0, ID=26278), Person(probability=0.0, ID=21685), Person(probability=0.56, ID=4167), Person(probability=0.53, ID=35771), Person(probability=0.0, ID=24206), Person(probability=0.03, ID=1590), Person(probability=0.46, ID=28391), Person(probability=0.0, ID=4236), Person(probability=0.01, ID=10480), Person(probability=0.45, ID=37375), Person(probability=0.06, ID=33457), Person(probability=0.71, ID=34462), Person(probability=0.52, ID=37612), Person(probability=0.02, ID=3121), Person(probability=0.02, ID=26438), Person(probability=0.58, ID=26696), Person(probability=0.0, ID=545), Person(probability=0.25, ID=28325), Person(probability=0.41, ID=40899), Person(probability=0.89, ID=36545), Person(probability=0.0, ID=8384), Person(probability=0.46, ID=35927), Person(probability=0.98, ID=36830), Person(probability=0.6, ID=4899), Person(probability=0.07, ID=36068), Person(probability=0.02, ID=7525), Person(probability=0.98, ID=39545), Person(probability=0.0, ID=30748), Person(probability=0.01, ID=5338), Person(probability=0.0, ID=1558), Person(probability=0.95, ID=35675), Person(probability=0.07, ID=34541), Person(probability=0.07, ID=16624), Person(probability=0.53, ID=15156), Person(probability=0.03, ID=35428), Person(probability=0.0, ID=14334), Person(probability=0.01, ID=24813), Person(probability=0.98, ID=11492), Person(probability=0.0, ID=18588), Person(probability=0.01, ID=20652), Person(probability=0.01, ID=23932), Person(probability=0.85, ID=38195), Person(probability=0.0, ID=9877), Person(probability=0.03, ID=22576), Person(probability=0.91, ID=5961), Person(probability=0.02, ID=1107), Person(probability=0.21, ID=24952), Person(probability=0.33, ID=27847), Person(probability=0.29, ID=26865), Person(probability=0.0, ID=9804), Person(probability=0.01, ID=19110), Person(probability=0.88, ID=10658), Person(probability=0.42, ID=29178), Person(probability=0.0, ID=5365), Person(probability=0.02, ID=23558), Person(probability=0.19, ID=29441), Person(probability=0.02, ID=31149), Person(probability=0.01, ID=24133), Person(probability=0.64, ID=19528), Person(probability=0.0, ID=25399), Person(probability=0.04, ID=10700), Person(probability=0.01, ID=9062), Person(probability=0.0, ID=2332), Person(probability=0.01, ID=19021), Person(probability=0.18, ID=33138), Person(probability=0.95, ID=30323), Person(probability=0.02, ID=18956), Person(probability=0.0, ID=5916), Person(probability=0.77, ID=36163), Person(probability=0.07, ID=5220), Person(probability=0.0, ID=20302), Person(probability=0.91, ID=30246), Person(probability=0.02, ID=6752), Person(probability=0.81, ID=37674), Person(probability=0.99, ID=39540), Person(probability=0.01, ID=4342), Person(probability=0.13, ID=26240), Person(probability=0.95, ID=38974), Person(probability=0.08, ID=21207), Person(probability=0.01, ID=3172), Person(probability=0.02, ID=369), Person(probability=0.99, ID=39853), Person(probability=0.54, ID=38607), Person(probability=0.95, ID=36878), Person(probability=0.72, ID=37691), Person(probability=0.87, ID=18263), Person(probability=0.7, ID=7137), Person(probability=0.96, ID=36952), Person(probability=0.68, ID=37484), Person(probability=0.83, ID=40292), Person(probability=0.01, ID=10236), Person(probability=0.86, ID=40185), Person(probability=0.0, ID=21786), Person(probability=0.04, ID=786), Person(probability=0.01, ID=8982), Person(probability=0.02, ID=699), Person(probability=0.03, ID=8543), Person(probability=0.01, ID=13645), Person(probability=0.49, ID=3385), Person(probability=0.0, ID=21196), Person(probability=0.99, ID=39383), Person(probability=0.0, ID=32198), Person(probability=0.61, ID=25070), Person(probability=0.0, ID=1559), Person(probability=0.01, ID=5119), Person(probability=0.82, ID=15187), Person(probability=0.01, ID=13146), Person(probability=0.02, ID=24636), Person(probability=0.95, ID=40844), Person(probability=0.0, ID=7189), Person(probability=0.63, ID=28324), Person(probability=0.0, ID=18837), Person(probability=0.0, ID=11358), Person(probability=0.03, ID=10722), Person(probability=0.48, ID=28310), Person(probability=0.01, ID=16799), Person(probability=0.1, ID=40536), Person(probability=0.02, ID=1633), Person(probability=0.01, ID=12386), Person(probability=0.96, ID=37245), Person(probability=0.95, ID=32348), Person(probability=0.16, ID=25320), Person(probability=0.01, ID=3123), Person(probability=0.53, ID=36452), Person(probability=0.01, ID=14559), Person(probability=0.8, ID=21174), Person(probability=0.02, ID=21565), Person(probability=0.03, ID=13579), Person(probability=0.04, ID=21333), Person(probability=0.05, ID=33549), Person(probability=0.0, ID=5897), Person(probability=0.01, ID=12234), Person(probability=0.07, ID=32738), Person(probability=0.56, ID=13725), Person(probability=0.86, ID=37353), Person(probability=0.0, ID=18241), Person(probability=0.0, ID=15073), Person(probability=0.97, ID=19155), Person(probability=0.01, ID=31931), Person(probability=0.05, ID=3030), Person(probability=0.05, ID=35329), Person(probability=0.01, ID=3975), Person(probability=0.86, ID=37660), Person(probability=0.0, ID=23695), Person(probability=1.0, ID=39730), Person(probability=0.01, ID=17321), Person(probability=0.02, ID=8415), Person(probability=0.01, ID=9153), Person(probability=0.88, ID=40334), Person(probability=0.01, ID=14809), Person(probability=0.0, ID=11447), Person(probability=0.16, ID=19473), Person(probability=0.72, ID=36745), Person(probability=0.0, ID=17052), Person(probability=1.0, ID=40382), Person(probability=0.04, ID=14653), Person(probability=0.02, ID=24684), Person(probability=0.0, ID=24831), Person(probability=0.0, ID=21977), Person(probability=0.33, ID=28346), Person(probability=0.0, ID=4), Person(probability=0.0, ID=17764), Person(probability=0.32, ID=29148), Person(probability=0.16, ID=2916), Person(probability=0.05, ID=9295), Person(probability=0.0, ID=1621), Person(probability=0.17, ID=34754), Person(probability=0.04, ID=31347), Person(probability=0.06, ID=32027), Person(probability=0.0, ID=636), Person(probability=0.26, ID=21032), Person(probability=0.0, ID=8677), Person(probability=0.01, ID=14978), Person(probability=0.99, ID=40071), Person(probability=0.03, ID=31696), Person(probability=0.0, ID=14545), Person(probability=0.96, ID=36670), Person(probability=0.01, ID=1262), Person(probability=0.02, ID=9040), Person(probability=0.0, ID=24250), Person(probability=0.09, ID=31162), Person(probability=0.01, ID=25755), Person(probability=0.95, ID=40246), Person(probability=0.3, ID=3744), Person(probability=0.0, ID=2480), Person(probability=0.59, ID=21841), Person(probability=0.02, ID=1439), Person(probability=0.0, ID=1190), Person(probability=0.87, ID=16941), Person(probability=0.67, ID=37940), Person(probability=0.65, ID=987), Person(probability=0.87, ID=40812), Person(probability=0.16, ID=29258), Person(probability=0.06, ID=21269), Person(probability=0.03, ID=16262), Person(probability=0.5, ID=19171), Person(probability=0.5, ID=35262), Person(probability=0.01, ID=13407), Person(probability=0.01, ID=21076), Person(probability=0.0, ID=2435), Person(probability=0.55, ID=3404), Person(probability=0.74, ID=19518), Person(probability=0.88, ID=8529), Person(probability=0.84, ID=38148), Person(probability=0.0, ID=18605), Person(probability=0.98, ID=38286), Person(probability=0.05, ID=20467), Person(probability=0.11, ID=32910), Person(probability=0.01, ID=23522), Person(probability=0.02, ID=23527), Person(probability=0.03, ID=32671), Person(probability=0.16, ID=29752), Person(probability=0.05, ID=20038), Person(probability=0.02, ID=25090), Person(probability=0.11, ID=33952), Person(probability=0.07, ID=32625), Person(probability=0.81, ID=23569), Person(probability=0.0, ID=24692), Person(probability=0.01, ID=23499), Person(probability=0.07, ID=31391), Person(probability=0.0, ID=6893), Person(probability=0.02, ID=17993), Person(probability=0.01, ID=4626), Person(probability=0.03, ID=24431), Person(probability=0.18, ID=33766), Person(probability=0.04, ID=13995), Person(probability=0.06, ID=13852), Person(probability=0.08, ID=33329), Person(probability=0.96, ID=37183), Person(probability=0.0, ID=14181), Person(probability=0.03, ID=25797), Person(probability=0.02, ID=19927), Person(probability=0.0, ID=712), Person(probability=0.01, ID=321), Person(probability=0.07, ID=34520), Person(probability=0.61, ID=33954), Person(probability=0.01, ID=5618), Person(probability=0.0, ID=13783), Person(probability=0.94, ID=40231), Person(probability=0.02, ID=17542), Person(probability=0.47, ID=8256), Person(probability=0.0, ID=27319), Person(probability=0.14, ID=29310), Person(probability=0.16, ID=15849), Person(probability=0.0, ID=5153), Person(probability=0.07, ID=12946), Person(probability=0.0, ID=31323), Person(probability=0.13, ID=35253), Person(probability=0.0, ID=33175), Person(probability=0.0, ID=26150), Person(probability=0.02, ID=18824), Person(probability=0.02, ID=12913), Person(probability=0.01, ID=3637), Person(probability=0.02, ID=20878), Person(probability=0.01, ID=14478), Person(probability=0.0, ID=1287), Person(probability=0.02, ID=19904), Person(probability=0.02, ID=8234), Person(probability=0.04, ID=15227), Person(probability=0.0, ID=12820), Person(probability=0.0, ID=1495), Person(probability=0.0, ID=25628), Person(probability=0.26, ID=34303), Person(probability=0.46, ID=20046), Person(probability=0.03, ID=35321), Person(probability=0.03, ID=15438), Person(probability=0.07, ID=33958), Person(probability=0.02, ID=18880), Person(probability=0.0, ID=32102), Person(probability=0.14, ID=27466), Person(probability=0.02, ID=1814), Person(probability=0.0, ID=675), Person(probability=0.01, ID=1081), Person(probability=0.04, ID=14726), Person(probability=0.02, ID=34152), Person(probability=0.19, ID=30536), Person(probability=0.04, ID=8087), Person(probability=0.45, ID=13734), Person(probability=0.88, ID=41181), Person(probability=0.0, ID=1586), Person(probability=0.14, ID=30758), Person(probability=0.86, ID=28840), Person(probability=0.02, ID=8432), Person(probability=0.04, ID=15337), Person(probability=0.0, ID=10997), Person(probability=0.83, ID=28956), Person(probability=0.74, ID=11016), Person(probability=0.06, ID=30858), Person(probability=0.0, ID=3934), Person(probability=0.04, ID=14661), Person(probability=0.04, ID=9135), Person(probability=1.0, ID=39491), Person(probability=0.0, ID=2416), Person(probability=0.01, ID=21433), Person(probability=0.93, ID=38476), Person(probability=0.0, ID=24590), Person(probability=0.92, ID=30202), Person(probability=0.88, ID=19415), Person(probability=0.02, ID=20140), Person(probability=0.83, ID=36873), Person(probability=0.05, ID=23218), Person(probability=0.17, ID=14987), Person(probability=0.01, ID=26459), Person(probability=0.95, ID=38500), Person(probability=0.65, ID=3299), Person(probability=0.05, ID=4320), Person(probability=0.02, ID=13596), Person(probability=0.92, ID=20653), Person(probability=0.0, ID=14350), Person(probability=0.95, ID=13958), Person(probability=0.06, ID=33973), Person(probability=0.0, ID=21666), Person(probability=0.71, ID=31179), Person(probability=0.01, ID=538), Person(probability=0.0, ID=3640), Person(probability=0.93, ID=38905), Person(probability=0.02, ID=35327), Person(probability=0.01, ID=18610), Person(probability=0.33, ID=36049), Person(probability=0.02, ID=32305), Person(probability=0.01, ID=23220), Person(probability=0.02, ID=17405), Person(probability=0.0, ID=24447), Person(probability=0.07, ID=28983), Person(probability=0.0, ID=11403), Person(probability=0.56, ID=37981), Person(probability=0.89, ID=39903), Person(probability=0.6, ID=38201), Person(probability=0.86, ID=19130), Person(probability=0.5, ID=31828), Person(probability=0.09, ID=31519), Person(probability=0.06, ID=34494), Person(probability=0.23, ID=29710), Person(probability=0.07, ID=1464), Person(probability=0.51, ID=37868), Person(probability=0.02, ID=16220), Person(probability=0.01, ID=12302), Person(probability=0.01, ID=7678), Person(probability=0.03, ID=7461), Person(probability=0.02, ID=11874), Person(probability=0.06, ID=35357), Person(probability=0.0, ID=21434), Person(probability=0.0, ID=544), Person(probability=0.14, ID=29125), Person(probability=0.83, ID=38625), Person(probability=0.0, ID=11663), Person(probability=0.0, ID=17796), Person(probability=0.96, ID=16317), Person(probability=0.1, ID=28952), Person(probability=0.09, ID=34464), Person(probability=0.8, ID=20715), Person(probability=0.11, ID=33420), Person(probability=0.85, ID=28204), Person(probability=0.97, ID=11996), Person(probability=0.01, ID=21574), Person(probability=0.01, ID=9913), Person(probability=0.0, ID=16223), Person(probability=0.83, ID=26990), Person(probability=0.77, ID=16659), Person(probability=0.47, ID=40323), Person(probability=0.01, ID=6514), Person(probability=0.03, ID=18422), Person(probability=0.01, ID=568), Person(probability=0.9, ID=40676), Person(probability=0.01, ID=509), Person(probability=0.01, ID=3046), Person(probability=0.06, ID=21703), Person(probability=0.38, ID=27885), Person(probability=0.0, ID=3776), Person(probability=0.47, ID=30059), Person(probability=0.74, ID=38279), Person(probability=0.13, ID=29236), Person(probability=0.0, ID=2516), Person(probability=0.66, ID=33469), Person(probability=0.12, ID=27619), Person(probability=0.77, ID=29447), Person(probability=0.01, ID=34103), Person(probability=1.0, ID=39874), Person(probability=0.01, ID=1009), Person(probability=0.05, ID=10005), Person(probability=0.95, ID=40716), Person(probability=0.52, ID=38217), Person(probability=0.02, ID=6628), Person(probability=0.02, ID=7214), Person(probability=0.0, ID=4394), Person(probability=0.06, ID=34755), Person(probability=0.61, ID=4086), Person(probability=0.92, ID=38176), Person(probability=0.04, ID=11870), Person(probability=0.09, ID=23979), Person(probability=0.03, ID=23301), Person(probability=0.0, ID=8845), Person(probability=0.0, ID=1749), Person(probability=0.2, ID=11021), Person(probability=0.1, ID=22850), Person(probability=1.0, ID=37235), Person(probability=0.99, ID=39833), Person(probability=1.0, ID=27855), Person(probability=0.17, ID=36173), Person(probability=0.2, ID=32687), Person(probability=0.03, ID=10187), Person(probability=0.01, ID=12244), Person(probability=0.01, ID=15158), Person(probability=0.9, ID=36258), Person(probability=0.67, ID=24640), Person(probability=0.08, ID=33327), Person(probability=0.07, ID=15540), Person(probability=0.03, ID=20130), Person(probability=0.02, ID=26668), Person(probability=0.0, ID=8756), Person(probability=0.34, ID=41171), Person(probability=0.63, ID=37391), Person(probability=0.32, ID=37018), Person(probability=0.03, ID=33449), Person(probability=0.0, ID=25277), Person(probability=0.02, ID=35053), Person(probability=0.01, ID=305), Person(probability=0.02, ID=32610), Person(probability=0.04, ID=1260), Person(probability=0.68, ID=39634), Person(probability=0.05, ID=7683), Person(probability=0.99, ID=37945), Person(probability=0.03, ID=17913), Person(probability=0.07, ID=34357), Person(probability=0.96, ID=13359), Person(probability=0.0, ID=3120), Person(probability=0.76, ID=13622), Person(probability=0.73, ID=24098), Person(probability=0.02, ID=14440), Person(probability=0.0, ID=24422), Person(probability=0.13, ID=11103), Person(probability=0.16, ID=32144), Person(probability=0.19, ID=39817), Person(probability=0.02, ID=9305), Person(probability=0.01, ID=1391), Person(probability=0.0, ID=7926), Person(probability=0.99, ID=13460), Person(probability=0.22, ID=23455), Person(probability=0.02, ID=5529), Person(probability=0.0, ID=18473), Person(probability=0.03, ID=25681), Person(probability=0.0, ID=312), Person(probability=0.87, ID=14074), Person(probability=0.01, ID=1321), Person(probability=0.0, ID=516), Person(probability=0.14, ID=18001), Person(probability=0.83, ID=10456), Person(probability=0.0, ID=11728), Person(probability=0.0, ID=14699), Person(probability=0.47, ID=28728), Person(probability=0.15, ID=23924), Person(probability=0.04, ID=9268), Person(probability=0.59, ID=12558), Person(probability=0.28, ID=35308), Person(probability=0.99, ID=39906), Person(probability=0.03, ID=25553), Person(probability=0.97, ID=38144), Person(probability=0.11, ID=4914), Person(probability=0.04, ID=35526), Person(probability=0.19, ID=33949), Person(probability=0.02, ID=26323), Person(probability=0.06, ID=1446), Person(probability=0.03, ID=11629), Person(probability=0.72, ID=8276), Person(probability=0.03, ID=2767), Person(probability=0.93, ID=30395), Person(probability=0.01, ID=32795), Person(probability=0.0, ID=26953), Person(probability=0.61, ID=33528), Person(probability=1.0, ID=30148), Person(probability=0.28, ID=3375), Person(probability=0.95, ID=30429), Person(probability=0.03, ID=34281), Person(probability=0.18, ID=27301), Person(probability=0.24, ID=15059), Person(probability=0.78, ID=13733), Person(probability=0.0, ID=6467), Person(probability=0.0, ID=23264), Person(probability=0.02, ID=1370), Person(probability=0.94, ID=30248), Person(probability=0.06, ID=7628), Person(probability=0.02, ID=22110), Person(probability=0.0, ID=16054), Person(probability=0.85, ID=21226), Person(probability=0.09, ID=20278), Person(probability=0.02, ID=10851), Person(probability=0.12, ID=29096), Person(probability=0.09, ID=3785), Person(probability=0.78, ID=31539), Person(probability=0.18, ID=18523), Person(probability=0.01, ID=33127), Person(probability=0.06, ID=8088), Person(probability=0.0, ID=18458), Person(probability=0.0, ID=19724), Person(probability=0.0, ID=8115), Person(probability=0.78, ID=35016), Person(probability=0.03, ID=14889), Person(probability=0.02, ID=22625), Person(probability=0.03, ID=11946), Person(probability=0.01, ID=14307), Person(probability=0.86, ID=9758), Person(probability=0.0, ID=24472), Person(probability=0.96, ID=31463), Person(probability=0.01, ID=26164), Person(probability=0.9, ID=40787), Person(probability=0.54, ID=31506), Person(probability=0.01, ID=31435), Person(probability=0.0, ID=25180), Person(probability=0.93, ID=17720), Person(probability=0.99, ID=40017), Person(probability=0.0, ID=25473), Person(probability=0.16, ID=33714), Person(probability=0.03, ID=17891), Person(probability=0.85, ID=38781), Person(probability=0.25, ID=28787), Person(probability=0.65, ID=16585), Person(probability=0.4, ID=36783), Person(probability=0.34, ID=37434), Person(probability=0.16, ID=40532), Person(probability=0.0, ID=9789), Person(probability=0.0, ID=26841), Person(probability=0.86, ID=40879), Person(probability=0.0, ID=23882), Person(probability=0.04, ID=16410), Person(probability=0.06, ID=35078), Person(probability=0.01, ID=20954), Person(probability=0.01, ID=21653), Person(probability=0.01, ID=13282), Person(probability=0.65, ID=28571), Person(probability=0.04, ID=24916), Person(probability=0.01, ID=22967), Person(probability=0.01, ID=31886), Person(probability=0.69, ID=26216), Person(probability=0.01, ID=11411), Person(probability=0.01, ID=3883), Person(probability=0.21, ID=21349), Person(probability=0.02, ID=33161), Person(probability=0.13, ID=30164), Person(probability=0.0, ID=6758), Person(probability=0.0, ID=15647), Person(probability=0.06, ID=27427), Person(probability=0.14, ID=29471), Person(probability=0.0, ID=5300), Person(probability=0.0, ID=13433), Person(probability=0.04, ID=4010), Person(probability=0.88, ID=39027), Person(probability=0.96, ID=40271), Person(probability=0.91, ID=37663), Person(probability=0.1, ID=12720), Person(probability=0.03, ID=2236), Person(probability=0.22, ID=29411), Person(probability=0.03, ID=23672), Person(probability=0.08, ID=18943), Person(probability=0.0, ID=9131), Person(probability=0.36, ID=36496), Person(probability=0.02, ID=3778), Person(probability=0.05, ID=8286), Person(probability=0.01, ID=21449), Person(probability=0.01, ID=6927), Person(probability=0.0, ID=3447), Person(probability=0.0, ID=20917), Person(probability=0.05, ID=33661), Person(probability=0.1, ID=31906), Person(probability=0.72, ID=83), Person(probability=0.0, ID=14481), Person(probability=0.0, ID=16618), Person(probability=0.99, ID=40728), Person(probability=0.02, ID=7910), Person(probability=0.98, ID=32391), Person(probability=0.0, ID=18085), Person(probability=0.0, ID=583), Person(probability=0.04, ID=40538), Person(probability=0.03, ID=17340), Person(probability=0.97, ID=12861), Person(probability=0.0, ID=4727), Person(probability=0.02, ID=5248), Person(probability=0.61, ID=19399), Person(probability=0.43, ID=37048), Person(probability=0.0, ID=15636), Person(probability=0.12, ID=24955), Person(probability=0.92, ID=12133), Person(probability=0.01, ID=18844), Person(probability=0.02, ID=7038), Person(probability=0.0, ID=31635), Person(probability=0.9, ID=37072), Person(probability=0.01, ID=5011), Person(probability=0.66, ID=37485), Person(probability=0.38, ID=29244), Person(probability=0.0, ID=15726), Person(probability=0.88, ID=38067), Person(probability=0.27, ID=29474), Person(probability=0.44, ID=10937), Person(probability=0.82, ID=40616), Person(probability=0.0, ID=19884), Person(probability=0.89, ID=40785), Person(probability=0.95, ID=30154), Person(probability=0.03, ID=20389), Person(probability=0.17, ID=3148), Person(probability=0.03, ID=21710), Person(probability=0.01, ID=14051), Person(probability=0.01, ID=33210), Person(probability=0.0, ID=1180), Person(probability=0.03, ID=26096), Person(probability=0.01, ID=5632), Person(probability=0.02, ID=27602), Person(probability=0.92, ID=30277), Person(probability=0.01, ID=14497), Person(probability=0.02, ID=22697), Person(probability=0.04, ID=25979), Person(probability=1.0, ID=39504), Person(probability=0.02, ID=33476), Person(probability=0.12, ID=22921), Person(probability=0.0, ID=24787), Person(probability=0.25, ID=28339), Person(probability=0.02, ID=7262), Person(probability=0.01, ID=15812), Person(probability=0.01, ID=13436), Person(probability=0.09, ID=19637), Person(probability=0.06, ID=26580), Person(probability=0.01, ID=26253), Person(probability=0.02, ID=17693), Person(probability=0.48, ID=28813), Person(probability=0.0, ID=3321), Person(probability=0.0, ID=11891), Person(probability=0.51, ID=19273), Person(probability=0.0, ID=19555), Person(probability=0.01, ID=2828), Person(probability=0.96, ID=31485), Person(probability=0.02, ID=11324), Person(probability=0.86, ID=7760), Person(probability=0.01, ID=23091), Person(probability=0.01, ID=31717), Person(probability=0.07, ID=7263), Person(probability=0.87, ID=39604), Person(probability=0.0, ID=15601), Person(probability=0.01, ID=14162), Person(probability=0.0, ID=20905), Person(probability=0.58, ID=38036), Person(probability=0.01, ID=2731), Person(probability=0.67, ID=395), Person(probability=0.0, ID=24313), Person(probability=0.1, ID=40528), Person(probability=0.85, ID=17871), Person(probability=0.57, ID=38062), Person(probability=0.01, ID=19266), Person(probability=0.47, ID=15147), Person(probability=0.01, ID=31333), Person(probability=0.02, ID=11240), Person(probability=0.38, ID=18551), Person(probability=0.96, ID=24055), Person(probability=0.57, ID=21043), Person(probability=0.01, ID=16060), Person(probability=0.0, ID=5694), Person(probability=0.0, ID=8096), Person(probability=0.04, ID=22870), Person(probability=0.06, ID=4119), Person(probability=0.01, ID=22721), Person(probability=0.06, ID=34112), Person(probability=0.04, ID=10108), Person(probability=0.02, ID=33635), Person(probability=0.05, ID=22628), Person(probability=0.96, ID=13652), Person(probability=0.01, ID=17819), Person(probability=0.05, ID=20578), Person(probability=0.01, ID=32653), Person(probability=0.84, ID=38314), Person(probability=0.01, ID=35436), Person(probability=0.2, ID=28985), Person(probability=0.9, ID=38803), Person(probability=0.32, ID=1100), Person(probability=0.6, ID=1846), Person(probability=0.04, ID=31161), Person(probability=0.1, ID=40707), Person(probability=0.0, ID=23434), Person(probability=0.01, ID=20547), Person(probability=0.99, ID=39225), Person(probability=0.02, ID=16284), Person(probability=0.2, ID=9114), Person(probability=0.21, ID=34005), Person(probability=0.01, ID=12177), Person(probability=0.01, ID=17586), Person(probability=0.01, ID=12415)]\n"
     ]
    }
   ],
   "source": [
    "print(persons)"
   ],
   "metadata": {
    "collapsed": false,
    "pycharm": {
     "name": "#%%\n"
    }
   }
  },
  {
   "cell_type": "code",
   "execution_count": 7,
   "outputs": [
    {
     "data": {
      "text/plain": "array([[<Axes: title={'center': '1'}>]], dtype=object)"
     },
     "execution_count": 7,
     "metadata": {},
     "output_type": "execute_result"
    },
    {
     "data": {
      "text/plain": "<Figure size 3000x500 with 1 Axes>",
      "image/png": "[encoded data removed]"
     },
     "metadata": {},
     "output_type": "display_data"
    }
   ],
   "source": [
    "import seaborn as sns\n",
    "result.drop(columns='0').hist(figsize=(30, 5))"
   ],
   "metadata": {
    "collapsed": false,
    "pycharm": {
     "name": "#%%\n"
    }
   }
  },
  {
   "cell_type": "markdown",
   "source": [
    "# Получим топ 3 важных признака (что влияло больше всего на то, что человек оформит депозит)"
   ],
   "metadata": {
    "collapsed": false,
    "pycharm": {
     "name": "#%% md\n"
    }
   }
  },
  {
   "cell_type": "markdown",
   "source": [
    "**Определим метод, который получает индексы признаков каждой категории:**"
   ],
   "metadata": {
    "collapsed": false,
    "pycharm": {
     "name": "#%% md\n"
    }
   }
  },
  {
   "cell_type": "code",
   "execution_count": 8,
   "outputs": [],
   "source": [
    "def get_feature_indexes(cols, features):\n",
    "    indexes = []\n",
    "    for feature in features:\n",
    "        ind = list(cols).index(feature)\n",
    "        indexes.append(ind)\n",
    "    return indexes"
   ],
   "metadata": {
    "collapsed": false,
    "pycharm": {
     "name": "#%%\n"
    }
   }
  },
  {
   "cell_type": "markdown",
   "source": [
    "**Определим метод, который получает долю важности признаков при прогнозе для конкретного пользователя**"
   ],
   "metadata": {
    "collapsed": false,
    "pycharm": {
     "name": "#%% md\n"
    }
   }
  },
  {
   "cell_type": "code",
   "execution_count": 9,
   "outputs": [],
   "source": [
    "from sklearn.preprocessing import MinMaxScaler\n",
    "\n",
    "def get_importance(df, feature_importance_, ID, feature_ind):\n",
    "    values = df.loc[ID].values[feature_ind]\n",
    "    importance = feature_importance_[feature_ind]\n",
    "    res = pd.DataFrame(values * importance, columns=['importance'])\n",
    "    res.index = df.loc[ID].iloc[feature_ind].index\n",
    "    scaler = MinMaxScaler()\n",
    "    res['importance'] = scaler.fit_transform(res['importance'].values.reshape(-1, 1))\n",
    "\n",
    "    return res.sort_values(by=['importance'])"
   ],
   "metadata": {
    "collapsed": false,
    "pycharm": {
     "name": "#%%\n"
    }
   }
  },
  {
   "cell_type": "markdown",
   "source": [
    "**Выделим бинарные, количественные и числовые признаки:**"
   ],
   "metadata": {
    "collapsed": false,
    "pycharm": {
     "name": "#%% md\n"
    }
   }
  },
  {
   "cell_type": "code",
   "execution_count": 10,
   "outputs": [],
   "source": [
    "bin_f = ['job', 'marital', 'education', 'default', 'housing', 'loan', 'contact', 'pdays']\n",
    "count_f = ['age', 'month', 'day_of_week']\n",
    "num_f = ['duration', 'campaign', 'previous', 'emp.var.rate', 'cons.price.idx', 'cons.conf.idx', 'euribor3m', 'nr.employed']\n"
   ],
   "metadata": {
    "collapsed": false,
    "pycharm": {
     "name": "#%%\n"
    }
   }
  },
  {
   "cell_type": "markdown",
   "source": [
    "**Получим важность признаков модели:**"
   ],
   "metadata": {
    "collapsed": false,
    "pycharm": {
     "name": "#%% md\n"
    }
   }
  },
  {
   "cell_type": "code",
   "execution_count": 11,
   "outputs": [],
   "source": [
    "fi = model.model.feature_importances_\n",
    "imp_test = test_data.drop(columns='y')"
   ],
   "metadata": {
    "collapsed": false,
    "pycharm": {
     "name": "#%%\n"
    }
   }
  },
  {
   "cell_type": "code",
   "execution_count": 12,
   "outputs": [
    {
     "name": "stdout",
     "output_type": "stream",
     "text": [
      "Бинарные признаки:\n",
      "          importance\n",
      "contact    0.937230\n",
      "housing    0.957223\n",
      "marital    1.000000\n",
      "Количественные признаки:\n",
      "              importance\n",
      "age            0.000000\n",
      "day_of_week    0.743101\n",
      "month          1.000000\n",
      "Числовые признаки:\n",
      "                 importance\n",
      "cons.price.idx    0.009180\n",
      "duration          0.516277\n",
      "nr.employed       1.000000\n"
     ]
    }
   ],
   "source": [
    "bin_f_ind = get_feature_indexes(imp_test.columns, bin_f)\n",
    "count_f_ind = get_feature_indexes(imp_test.columns, count_f)\n",
    "num_f_ind = get_feature_indexes(imp_test.columns, num_f)\n",
    "\n",
    "ID = 6605  # 323, 6605\n",
    "bin_f_imp = get_importance(imp_test, fi, ID, bin_f_ind)\n",
    "count_f_imp = get_importance(imp_test, fi, ID, count_f_ind)\n",
    "num_f_imp = get_importance(imp_test, fi, ID, num_f_ind)\n",
    "\n",
    "print('Бинарные признаки:\\n', bin_f_imp.iloc[len(bin_f_imp) - 3 :len(bin_f_imp)])\n",
    "print('Количественные признаки:\\n', count_f_imp.iloc[len(count_f_imp) - 3 :len(count_f_imp)])\n",
    "print('Числовые признаки:\\n', num_f_imp.iloc[len(num_f_imp) - 3 :len(num_f_imp)])\n",
    "\n",
    "# print(bin_f_imp)\n",
    "# print(count_f_imp)\n",
    "# print(num_f_imp)"
   ],
   "metadata": {
    "collapsed": false,
    "pycharm": {
     "name": "#%%\n"
    }
   }
  },
  {
   "cell_type": "code",
   "execution_count": 13,
   "outputs": [
    {
     "data": {
      "text/plain": "array([[<Axes: title={'center': '1'}>]], dtype=object)"
     },
     "execution_count": 13,
     "metadata": {},
     "output_type": "execute_result"
    },
    {
     "data": {
      "text/plain": "<Figure size 3000x500 with 1 Axes>",
      "image/png": "[encoded data removed]"
     },
     "metadata": {},
     "output_type": "display_data"
    }
   ],
   "source": [
    "import seaborn as sns\n",
    "result.drop(columns='0').hist(figsize=(30, 5))"
   ],
   "metadata": {
    "collapsed": false,
    "pycharm": {
     "name": "#%%\n"
    }
   }
  },
  {
   "cell_type": "markdown",
   "source": [
    "# Получим топ 3 важных признака (что влияло больше всего на то, что человек оформит депозит)"
   ],
   "metadata": {
    "collapsed": false,
    "pycharm": {
     "name": "#%% md\n"
    }
   }
  },
  {
   "cell_type": "markdown",
   "source": [
    "**Определим метод, который получает индексы признаков каждой категории:**"
   ],
   "metadata": {
    "collapsed": false,
    "pycharm": {
     "name": "#%% md\n"
    }
   }
  },
  {
   "cell_type": "code",
   "execution_count": 14,
   "outputs": [],
   "source": [
    "def get_feature_indexes(cols, features):\n",
    "    indexes = []\n",
    "    for feature in features:\n",
    "        ind = list(cols).index(feature)\n",
    "        indexes.append(ind)\n",
    "    return indexes"
   ],
   "metadata": {
    "collapsed": false,
    "pycharm": {
     "name": "#%%\n"
    }
   }
  },
  {
   "cell_type": "markdown",
   "source": [
    "**Определим метод, который получает долю важности признаков при прогнозе для конкретного пользователя**"
   ],
   "metadata": {
    "collapsed": false,
    "pycharm": {
     "name": "#%% md\n"
    }
   }
  },
  {
   "cell_type": "code",
   "execution_count": 15,
   "outputs": [],
   "source": [
    "from sklearn.preprocessing import MinMaxScaler\n",
    "\n",
    "def get_importance(df, feature_importance_, ID, feature_ind):\n",
    "    values = df.loc[ID].values[feature_ind]\n",
    "    importance = feature_importance_[feature_ind]\n",
    "    res = pd.DataFrame(values * importance, columns=['importance'])\n",
    "    res.index = df.loc[ID].iloc[feature_ind].index\n",
    "    scaler = MinMaxScaler()\n",
    "    res['importance'] = scaler.fit_transform(res['importance'].values.reshape(-1, 1))\n",
    "\n",
    "    return res.sort_values(by=['importance'])"
   ],
   "metadata": {
    "collapsed": false,
    "pycharm": {
     "name": "#%%\n"
    }
   }
  },
  {
   "cell_type": "markdown",
   "source": [
    "**Выделим бинарные, количественные и числовые признаки:**"
   ],
   "metadata": {
    "collapsed": false,
    "pycharm": {
     "name": "#%% md\n"
    }
   }
  },
  {
   "cell_type": "code",
   "execution_count": 16,
   "outputs": [],
   "source": [
    "bin_f = ['job', 'marital', 'education', 'default', 'housing', 'loan', 'contact', 'pdays']\n",
    "count_f = ['age', 'month', 'day_of_week']\n",
    "num_f = ['duration', 'campaign', 'previous', 'emp.var.rate', 'cons.price.idx', 'cons.conf.idx', 'euribor3m', 'nr.employed']\n"
   ],
   "metadata": {
    "collapsed": false,
    "pycharm": {
     "name": "#%%\n"
    }
   }
  },
  {
   "cell_type": "markdown",
   "source": [
    "**Получим важность признаков модели:**"
   ],
   "metadata": {
    "collapsed": false,
    "pycharm": {
     "name": "#%% md\n"
    }
   }
  },
  {
   "cell_type": "code",
   "execution_count": 17,
   "outputs": [],
   "source": [
    "fi = model.model.feature_importances_\n",
    "imp_test = test_data.drop(columns='y')"
   ],
   "metadata": {
    "collapsed": false,
    "pycharm": {
     "name": "#%%\n"
    }
   }
  },
  {
   "cell_type": "code",
   "execution_count": 21,
   "outputs": [
    {
     "data": {
      "text/plain": "       age  job  marital  education  default  housing  loan  contact  month  \\\nid                                                                            \n20806    0    1        1          1        0        1     0        0    7.0   \n32487    2    1        1          0        0        0     0        0    4.0   \n6605     0    1        1          0        1        1     0        1    4.0   \n27542    0    1        1          1        0        0     0        0   10.0   \n37202    0    1        0          1        0        0     0        0    7.0   \n...    ...  ...      ...        ...      ...      ...   ...      ...    ...   \n9114     0    1        1          0        0        1     0        1    5.0   \n34005    0    1        1          0        0        0     1        0    4.0   \n12177    1    1        1          0        1        0     0        1    6.0   \n17586    2    1        1          0        0        1     0        0    6.0   \n12415    0    1        1          1        1        0     0        0    6.0   \n\n       day_of_week  duration  campaign  pdays  previous  emp.var.rate  \\\nid                                                                      \n20806          2.0        73         3      0         0           1.4   \n32487          4.0       129         2      0         0          -1.8   \n6605           2.0       507         1      0         0           1.1   \n27542          4.0        14         9      0         0          -0.1   \n37202          3.0       250         1      0         1          -2.9   \n...            ...       ...       ...    ...       ...           ...   \n9114           4.0       447         2      0         0           1.4   \n34005          2.0       281         1      0         0          -1.8   \n12177          1.0        39         1      0         0           1.4   \n17586          0.0       290         2      0         0           1.4   \n12415          0.0        75         3      0         0           1.4   \n\n       cons.price.idx  cons.conf.idx  euribor3m  nr.employed  \nid                                                            \n20806          93.444          -36.1      4.965       5228.1  \n32487          92.893          -46.2      1.313       5099.1  \n6605           93.994          -36.4      4.857       5191.0  \n27542          93.200          -42.0      4.021       5195.8  \n37202          92.201          -31.4      0.883       5076.2  \n...               ...            ...        ...          ...  \n9114           94.465          -41.8      4.967       5228.1  \n34005          92.893          -46.2      1.281       5099.1  \n12177          93.918          -42.7      4.955       5228.1  \n17586          93.918          -42.7      4.962       5228.1  \n12415          93.918          -42.7      4.960       5228.1  \n\n[1000 rows x 19 columns]",
      "text/html": "<div>\n<style scoped>\n    .dataframe tbody tr th:only-of-type {\n        vertical-align: middle;\n    }\n\n    .dataframe tbody tr th {\n        vertical-align: top;\n    }\n\n    .dataframe thead th {\n        text-align: right;\n    }\n</style>\n<table border=\"1\" class=\"dataframe\">\n  <thead>\n    <tr style=\"text-align: right;\">\n      <th></th>\n      <th>age</th>\n      <th>job</th>\n      <th>marital</th>\n      <th>education</th>\n      <th>default</th>\n      <th>housing</th>\n      <th>loan</th>\n      <th>contact</th>\n      <th>month</th>\n      <th>day_of_week</th>\n      <th>duration</th>\n      <th>campaign</th>\n      <th>pdays</th>\n      <th>previous</th>\n      <th>emp.var.rate</th>\n      <th>cons.price.idx</th>\n      <th>cons.conf.idx</th>\n      <th>euribor3m</th>\n      <th>nr.employed</th>\n    </tr>\n    <tr>\n      <th>id</th>\n      <th></th>\n      <th></th>\n      <th></th>\n      <th></th>\n      <th></th>\n      <th></th>\n      <th></th>\n      <th></th>\n      <th></th>\n      <th></th>\n      <th></th>\n      <th></th>\n      <th></th>\n      <th></th>\n      <th></th>\n      <th></th>\n      <th></th>\n      <th></th>\n      <th></th>\n    </tr>\n  </thead>\n  <tbody>\n    <tr>\n      <th>20806</th>\n      <td>0</td>\n      <td>1</td>\n      <td>1</td>\n      <td>1</td>\n      <td>0</td>\n      <td>1</td>\n      <td>0</td>\n      <td>0</td>\n      <td>7.0</td>\n      <td>2.0</td>\n      <td>73</td>\n      <td>3</td>\n      <td>0</td>\n      <td>0</td>\n      <td>1.4</td>\n      <td>93.444</td>\n      <td>-36.1</td>\n      <td>4.965</td>\n      <td>5228.1</td>\n    </tr>\n    <tr>\n      <th>32487</th>\n      <td>2</td>\n      <td>1</td>\n      <td>1</td>\n      <td>0</td>\n      <td>0</td>\n      <td>0</td>\n      <td>0</td>\n      <td>0</td>\n      <td>4.0</td>\n      <td>4.0</td>\n      <td>129</td>\n      <td>2</td>\n      <td>0</td>\n      <td>0</td>\n      <td>-1.8</td>\n      <td>92.893</td>\n      <td>-46.2</td>\n      <td>1.313</td>\n      <td>5099.1</td>\n    </tr>\n    <tr>\n      <th>6605</th>\n      <td>0</td>\n      <td>1</td>\n      <td>1</td>\n      <td>0</td>\n      <td>1</td>\n      <td>1</td>\n      <td>0</td>\n      <td>1</td>\n      <td>4.0</td>\n      <td>2.0</td>\n      <td>507</td>\n      <td>1</td>\n      <td>0</td>\n      <td>0</td>\n      <td>1.1</td>\n      <td>93.994</td>\n      <td>-36.4</td>\n      <td>4.857</td>\n      <td>5191.0</td>\n    </tr>\n    <tr>\n      <th>27542</th>\n      <td>0</td>\n      <td>1</td>\n      <td>1</td>\n      <td>1</td>\n      <td>0</td>\n      <td>0</td>\n      <td>0</td>\n      <td>0</td>\n      <td>10.0</td>\n      <td>4.0</td>\n      <td>14</td>\n      <td>9</td>\n      <td>0</td>\n      <td>0</td>\n      <td>-0.1</td>\n      <td>93.200</td>\n      <td>-42.0</td>\n      <td>4.021</td>\n      <td>5195.8</td>\n    </tr>\n    <tr>\n      <th>37202</th>\n      <td>0</td>\n      <td>1</td>\n      <td>0</td>\n      <td>1</td>\n      <td>0</td>\n      <td>0</td>\n      <td>0</td>\n      <td>0</td>\n      <td>7.0</td>\n      <td>3.0</td>\n      <td>250</td>\n      <td>1</td>\n      <td>0</td>\n      <td>1</td>\n      <td>-2.9</td>\n      <td>92.201</td>\n      <td>-31.4</td>\n      <td>0.883</td>\n      <td>5076.2</td>\n    </tr>\n    <tr>\n      <th>...</th>\n      <td>...</td>\n      <td>...</td>\n      <td>...</td>\n      <td>...</td>\n      <td>...</td>\n      <td>...</td>\n      <td>...</td>\n      <td>...</td>\n      <td>...</td>\n      <td>...</td>\n      <td>...</td>\n      <td>...</td>\n      <td>...</td>\n      <td>...</td>\n      <td>...</td>\n      <td>...</td>\n      <td>...</td>\n      <td>...</td>\n      <td>...</td>\n    </tr>\n    <tr>\n      <th>9114</th>\n      <td>0</td>\n      <td>1</td>\n      <td>1</td>\n      <td>0</td>\n      <td>0</td>\n      <td>1</td>\n      <td>0</td>\n      <td>1</td>\n      <td>5.0</td>\n      <td>4.0</td>\n      <td>447</td>\n      <td>2</td>\n      <td>0</td>\n      <td>0</td>\n      <td>1.4</td>\n      <td>94.465</td>\n      <td>-41.8</td>\n      <td>4.967</td>\n      <td>5228.1</td>\n    </tr>\n    <tr>\n      <th>34005</th>\n      <td>0</td>\n      <td>1</td>\n      <td>1</td>\n      <td>0</td>\n      <td>0</td>\n      <td>0</td>\n      <td>1</td>\n      <td>0</td>\n      <td>4.0</td>\n      <td>2.0</td>\n      <td>281</td>\n      <td>1</td>\n      <td>0</td>\n      <td>0</td>\n      <td>-1.8</td>\n      <td>92.893</td>\n      <td>-46.2</td>\n      <td>1.281</td>\n      <td>5099.1</td>\n    </tr>\n    <tr>\n      <th>12177</th>\n      <td>1</td>\n      <td>1</td>\n      <td>1</td>\n      <td>0</td>\n      <td>1</td>\n      <td>0</td>\n      <td>0</td>\n      <td>1</td>\n      <td>6.0</td>\n      <td>1.0</td>\n      <td>39</td>\n      <td>1</td>\n      <td>0</td>\n      <td>0</td>\n      <td>1.4</td>\n      <td>93.918</td>\n      <td>-42.7</td>\n      <td>4.955</td>\n      <td>5228.1</td>\n    </tr>\n    <tr>\n      <th>17586</th>\n      <td>2</td>\n      <td>1</td>\n      <td>1</td>\n      <td>0</td>\n      <td>0</td>\n      <td>1</td>\n      <td>0</td>\n      <td>0</td>\n      <td>6.0</td>\n      <td>0.0</td>\n      <td>290</td>\n      <td>2</td>\n      <td>0</td>\n      <td>0</td>\n      <td>1.4</td>\n      <td>93.918</td>\n      <td>-42.7</td>\n      <td>4.962</td>\n      <td>5228.1</td>\n    </tr>\n    <tr>\n      <th>12415</th>\n      <td>0</td>\n      <td>1</td>\n      <td>1</td>\n      <td>1</td>\n      <td>1</td>\n      <td>0</td>\n      <td>0</td>\n      <td>0</td>\n      <td>6.0</td>\n      <td>0.0</td>\n      <td>75</td>\n      <td>3</td>\n      <td>0</td>\n      <td>0</td>\n      <td>1.4</td>\n      <td>93.918</td>\n      <td>-42.7</td>\n      <td>4.960</td>\n      <td>5228.1</td>\n    </tr>\n  </tbody>\n</table>\n<p>1000 rows × 19 columns</p>\n</div>"
     },
     "execution_count": 21,
     "metadata": {},
     "output_type": "execute_result"
    }
   ],
   "source": [
    "imp_test"
   ],
   "metadata": {
    "collapsed": false,
    "pycharm": {
     "name": "#%%\n"
    }
   }
  },
  {
   "cell_type": "code",
   "execution_count": 27,
   "outputs": [
    {
     "name": "stdout",
     "output_type": "stream",
     "text": [
      "Бинарные признаки:\n",
      " importance    1.0\n",
      "Name: marital, dtype: float64\n",
      "Количественные признаки:\n",
      " importance    1.0\n",
      "Name: month, dtype: float64\n",
      "Числовые признаки:\n",
      " importance    1.0\n",
      "Name: nr.employed, dtype: float64\n"
     ]
    }
   ],
   "source": [
    "bin_f_ind = get_feature_indexes(imp_test.columns, bin_f)\n",
    "count_f_ind = get_feature_indexes(imp_test.columns, count_f)\n",
    "num_f_ind = get_feature_indexes(imp_test.columns, num_f)\n",
    "\n",
    "ID = 22720  # 323, 6605\n",
    "bin_f_imp = get_importance(imp_test, fi, ID, bin_f_ind)\n",
    "count_f_imp = get_importance(imp_test, fi, ID, count_f_ind)\n",
    "num_f_imp = get_importance(imp_test, fi, ID, num_f_ind)\n",
    "\n",
    "print('Бинарные признаки:\\n', bin_f_imp.iloc[len(bin_f_imp) - 1])\n",
    "print('Количественные признаки:\\n', count_f_imp.iloc[len(count_f_imp) - 1])\n",
    "print('Числовые признаки:\\n', num_f_imp.iloc[len(num_f_imp) - 1])\n",
    "\n",
    "# print(bin_f_imp)\n",
    "# print(count_f_imp)\n",
    "# print(num_f_imp)"
   ],
   "metadata": {
    "collapsed": false,
    "pycharm": {
     "name": "#%%\n"
    }
   }
  },
  {
   "cell_type": "code",
   "execution_count": null,
   "outputs": [],
   "source": [],
   "metadata": {
    "collapsed": false,
    "pycharm": {
     "name": "#%%\n",
     "is_executing": true
    }
   }
  },
  {
   "cell_type": "markdown",
   "source": [
    "marital, month, nr.employed"
   ],
   "metadata": {
    "collapsed": false,
    "pycharm": {
     "name": "#%% md\n"
    }
   }
  }
 ],
 "metadata": {
  "kernelspec": {
   "display_name": "Python 3",
   "language": "python",
   "name": "python3"
  },
  "language_info": {
   "codemirror_mode": {
    "name": "ipython",
    "version": 2
   },
   "file_extension": ".py",
   "mimetype": "text/x-python",
   "name": "python",
   "nbconvert_exporter": "python",
   "pygments_lexer": "ipython2",
   "version": "2.7.6"
  }
 },
 "nbformat": 4,
 "nbformat_minor": 0
}