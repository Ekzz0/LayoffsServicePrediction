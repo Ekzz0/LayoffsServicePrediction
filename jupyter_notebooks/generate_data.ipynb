{
 "cells": [
  {
   "cell_type": "code",
   "execution_count": 329,
   "outputs": [],
   "source": [
    "import numpy as np\n",
    "import pandas as pd\n",
    "import seaborn as sns\n",
    "import matplotlib.pyplot as plt\n",
    "from datetime import datetime, timedelta\n",
    "import random\n",
    "import joblib"
   ],
   "metadata": {
    "collapsed": false,
    "pycharm": {
     "name": "#%%\n"
    }
   }
  },
  {
   "cell_type": "code",
   "execution_count": 330,
   "outputs": [],
   "source": [
    "def add(low, high, reverse=False):\n",
    "    if reverse:\n",
    "        return [random.randint(low, high) if i <= 0.5 else low for i in resigned]\n",
    "    else:\n",
    "        return [low if i <= 0.5 else random.randint(low, high) for i in resigned]"
   ],
   "metadata": {
    "collapsed": false,
    "pycharm": {
     "name": "#%%\n"
    }
   }
  },
  {
   "cell_type": "code",
   "execution_count": 331,
   "outputs": [],
   "source": [
    "# Установка начальных параметров\n",
    "random.seed(42)  # Зафиксируем seed для воспроизводимости результатов\n",
    "np.random.seed(42)\n",
    "num_samples = 3000  # Количество записей\n",
    "start_date = datetime(2023, 1, 1)  # Начальная дата\n",
    "work_hours_start = 9  # Начало рабочего дня\n",
    "work_hours_end = 17  # Конец рабочего дня\n",
    "time_to_read = 4  # Часы до прочтения\n",
    "stress_keywords = ['stress', 'deadline', 'overwork']  # Ключевые слова для стресса\n",
    "salary_change_keywords = ['salary', 'pay raise', 'compensation']  # Ключевые слова про изменение зарплаты\n",
    "vacation_keywords = ['vacation', 'leave', 'time off']  # Ключевые слова про отпуск\n",
    "\n",
    "# Генерация последовательных ID\n",
    "starting_id = 1000  # Начальное значение ID\n",
    "num_users = num_samples  # Количество пользователей\n",
    "\n",
    "user_ids = [starting_id + i for i in range(num_users)]\n",
    "\n",
    "def rand_group(x):\n",
    "    return random.randint(1, 5)\n",
    "rand_groups = [rand_group(1) for _ in range(num_samples)]"
   ],
   "metadata": {
    "collapsed": false,
    "pycharm": {
     "name": "#%%\n"
    }
   }
  },
  {
   "cell_type": "code",
   "execution_count": null,
   "outputs": [],
   "source": [
    "for i in range(1, 4):\n",
    "    # Генерация чисел в пропорциях 80% и 20%\n",
    "    percent_greater_than_05 = 0.3  # Процент чисел больше 0.5\n",
    "\n",
    "    # Создание массива чисел от 0 до 1\n",
    "    numbers = np.random.rand(num_samples)\n",
    "\n",
    "    # Определение количества чисел больше и меньше 0.5\n",
    "    num_greater_than_05 = int(num_samples * percent_greater_than_05)\n",
    "    num_less_than_05 = num_samples - num_greater_than_05\n",
    "\n",
    "    # Установка значений\n",
    "    numbers[num_greater_than_05:] *= 0.5  # Уменьшение чисел, начиная с определенного индекса\n",
    "\n",
    "    # Пример значений\n",
    "    print(numbers)\n",
    "\n",
    "    # Целевая переменная\n",
    "    resigned = numbers\n",
    "\n",
    "    sent_messages = np.int32(10 + np.random.poisson(50, num_samples) + add(7, 20)) # Количество отправленных сообщений\n",
    "    received_messages = np.int32(np.random.poisson(70, num_samples) + add(12, 30)) # Количество полученных сообщений\n",
    "    messages_outside_work_hours = np.int32(sent_messages * 0.04 ) # Количество сообщений, отправленных вне рабочего дня\n",
    "    send_frequency = np.int32(sent_messages * 0.07 + np.random.poisson(10, num_samples)) # Частота отправки\n",
    "    receive_frequency = np.int32(received_messages * 0.07 + np.random.poisson(10, num_samples)) # Частота получения\n",
    "    sent_received_ratio = received_messages / (sent_messages + 1) # Соотношение количества полученных и отправленных сообщений\n",
    "\n",
    "    # Характеристики сообщений\n",
    "    recipients_in_sent = np.int32(add(1, 3, True) + np.random.poisson(5, num_samples)) # Количество адресатов в отправляемых сообщениях\n",
    "    hidden_copy = np.int32(recipients_in_sent * 0.05 + add(1, 3, True) + np.random.exponential(1, num_samples)) # Количество сообщений с адресатами в поле \"скрытая копия\"\n",
    "    carbon_copy = np.int32(recipients_in_sent * 0.15 + add(1, 4, True) + np.random.exponential(1, num_samples)) # Количество сообщений с адресатами в поле \"копия\"\n",
    "    text_length = np.int32(np.log(sent_messages + 1) * np.random.lognormal(3, 1, num_samples) + 100 * resigned) # Количество символов текста в исходящих сообщениях\n",
    "    bytes_ratio = np.random.uniform(0.5, 2.0, num_samples)  # Соотношение объема в байтах получаемых и отправляемых сообщений\n",
    "    question_marks = np.int32(np.random.uniform(2, 4, num_samples)) # Количество знаков вопроса\n",
    "\n",
    "    # Ответы и реакции\n",
    "    answered_messages = np.int32(np.random.normal(20, 5, num_samples) + add(3, 10)) # Количество сообщений, на которые пользователь получил ответ\n",
    "    unanswered_messages = np.int32(np.random.normal(10, 3, num_samples) + add(2, 7, True)) # Количество сообщений, на которые сотрудник не получил ответа\n",
    "    unreplied_messages = np.int32(np.random.normal(5, 3, num_samples) + add(2, 10, True)) # Количество сообщений, на которые сотрудник сам не ответил\n",
    "\n",
    "    # Типы взаимодействий и эмоции\n",
    "    mention_colleagues = np.int32((np.random.normal(2, 1, num_samples))) # Частота упоминания коллег в письмах\n",
    "    salary_change_info = np.round(np.random.choice([0, 1], num_samples)* np.random.choice([0, 1], num_samples) * np.random.choice([0, 1], num_samples) * resigned)  # Указание информации о изменении зарплаты\n",
    "    vacation_info =  np.round(np.random.choice([0, 1], num_samples) * np.random.choice([0, 1], num_samples) * (1 - resigned)) # Указание информации об отпуске\n",
    "    polite_message = np.round(np.random.choice([0, 1], num_samples) * np.random.choice([0, 1], num_samples) * np.random.choice([0, 1], num_samples) * resigned) # Является ли сообщение вежливым\n",
    "    mood_type =  np.round(np.random.choice([0, 1], num_samples) * np.random.choice([0, 1], num_samples) * resigned) # Настроение в сообщении\n",
    "    stress_keywords = np.int32(np.random.normal(1, 0.5, num_samples) + add(0, 2, True)) # Есть ли стрессовые слова в сообщении?\n",
    "\n",
    "    # Временные характеристики\n",
    "    response_time = np.int32(np.random.normal(3, 0.5, num_samples) + add(0, 3, True)) # Среднее время ответа на входящие сообщения\n",
    "    late_read_messages = np.int32(0.03 * received_messages + np.random.normal(1, 0.5, num_samples) + add(1, 3, True))\n",
    "    days_between_received_read = np.int32(np.random.normal(1, 0.5, num_samples) + add(0, 2, True))\n",
    "\n",
    "    # Генерация случайных данных\n",
    "    data = {\n",
    "        # ID:\n",
    "        'id': user_ids,\n",
    "\n",
    "        # Общее количество сообщений\n",
    "        'SentMessages': sent_messages,\n",
    "        'ReceivedMessages': received_messages,\n",
    "        'MessagesOutsideWorkHours': messages_outside_work_hours,\n",
    "        'SentFrequency': send_frequency,\n",
    "        'ReceivedFrequency': receive_frequency,\n",
    "        'SentReceivedRatio': sent_received_ratio,\n",
    "\n",
    "        # Характеристики сообщений\n",
    "        'UniqueRecipients': recipients_in_sent,\n",
    "        'HiddenCopy': hidden_copy,\n",
    "        'CarbonCopy': carbon_copy,\n",
    "        'TextLength': text_length,\n",
    "        'BytesSentReceivedRatio': bytes_ratio,\n",
    "        'QuestionMarks': question_marks,\n",
    "        #\n",
    "        # Временные характеристики\n",
    "        'ResponseTime': response_time,\n",
    "        'MessagesReadLater': late_read_messages,\n",
    "        'DaysBetweenReceivedAndRead': days_between_received_read,\n",
    "\n",
    "        # # Ответы и реакции\n",
    "        'AnsweredMessages': answered_messages,\n",
    "        'UnansweredMessages': unanswered_messages,\n",
    "        'UnrepliedMessages': unreplied_messages,\n",
    "        #\n",
    "        # Типы взаимодействий и эмоции\n",
    "        'MentionColleagues': mention_colleagues,\n",
    "        'MoodType': mood_type,\n",
    "        'StressKeywordsPresent': stress_keywords,\n",
    "        'SalaryChangeMentioned':salary_change_info,\n",
    "        'VacationMentioned': vacation_info,\n",
    "        'PoliteMessage': polite_message,\n",
    "\n",
    "        # Целевая переменная\n",
    "        'Resigned': resigned  # Целевая переменная (0 - не уволился, 1 - уволился)\n",
    "    }\n",
    "\n",
    "    # Создание DataFrame из сгенерированных данных\n",
    "    df = pd.DataFrame(data)\n",
    "\n",
    "    # # Добавление временных меток сообщений\n",
    "    # date_list = [start_date + timedelta(days=random.randint(0, 365)) for _ in range(num_samples)]\n",
    "    # time_list = [random.randint(0, 23) for _ in range(num_samples)]\n",
    "    # df['MessageDateTime'] = [date + timedelta(hours=time) for date, time in zip(date_list, time_list)]\n",
    "\n",
    "\n",
    "    df['Resigned'] = [1 if i >= 0.5 else 0 for i in df['Resigned']]\n",
    "\n",
    "    # Типы взаимодействий и эмоции\n",
    "    # df['mention_colleagues'] = [1 if i >= 0.5 else 0 for i in df['mention_colleagues']]\n",
    "    df['MoodType'] = [1 if i >= 0.3 else 0 for i in df['MoodType']]\n",
    "    # df['StressKeywordsPresent'] = [1 if i >= 0.2 else 0 for i in df['StressKeywordsPresent']]\n",
    "    df['SalaryChangeMentioned'] = [1 if i >= 0.5 else 0 for i in df['SalaryChangeMentioned']]\n",
    "    df['VacationMentioned'] = [1 if i >= 0.3 else 0 for i in df['VacationMentioned']]\n",
    "    df['PoliteMessage'] = [1 if i >= 0.25 else 0 for i in df['PoliteMessage']]\n",
    "\n",
    "    groups_to_replace = {1: 'Development Department', 2: 'Quality Assurance', 3: 'IT Infrastructure', 4: 'Sales and Marketing', 5: 'Research and Development'}\n",
    "\n",
    "    df['Group'] = rand_groups\n",
    "    df['Group'] = df['Group'].replace(groups_to_replace)\n",
    "\n",
    "    sample = df.sample(n=20, random_state=42).drop(columns=['Resigned'])\n",
    "    sample.to_csv(f'../data/test_{i}.csv', index=False)"
   ],
   "metadata": {
    "collapsed": false,
    "pycharm": {
     "name": "#%%\n"
    }
   }
  },
  {
   "cell_type": "code",
   "execution_count": null,
   "outputs": [],
   "source": [
    "# Проверим корреляции\n",
    "correlation_matrix = df.drop(columns=['id', 'Group']).corr()\n",
    "\n",
    "plt.figure(figsize=(30,20))\n",
    "sns.set(font_scale=1.15)\n",
    "sns.heatmap(correlation_matrix,\n",
    "            cmap='RdBu_r', # задаёт цветовую схему\n",
    "            annot=True, # рисует значения внутри ячеек\n",
    "            vmin=-1, vmax=1,\n",
    "            mask=np.triu(correlation_matrix))"
   ],
   "metadata": {
    "collapsed": false,
    "pycharm": {
     "name": "#%%\n"
    }
   }
  },
  {
   "cell_type": "code",
   "execution_count": null,
   "outputs": [],
   "source": [
    "num_f = ['SentMessages', 'ReceivedMessages',\n",
    "          'SentFrequency', 'ReceivedFrequency', 'SentReceivedRatio',\n",
    "          'UniqueRecipients', 'TextLength',\n",
    "          'BytesSentReceivedRatio']\n",
    "joblib.dump(num_f, f'../data/num_f')\n",
    "\n",
    "count_f = ['MessagesOutsideWorkHours', 'HiddenCopy', 'CarbonCopy', 'QuestionMarks', 'ResponseTime',\n",
    "          'MessagesReadLater', 'DaysBetweenReceivedAndRead', 'AnsweredMessages',\n",
    "          'UnansweredMessages', 'UnrepliedMessages']\n",
    "joblib.dump(count_f, f'../data/count_f')\n",
    "\n",
    "bin_f = ['MentionColleagues',\n",
    "             'MoodType', 'StressKeywordsPresent', 'SalaryChangeMentioned',\n",
    "             'VacationMentioned', 'PoliteMessage']\n",
    "joblib.dump(bin_f, f'../data/bin_f')\n"
   ],
   "metadata": {
    "collapsed": false,
    "pycharm": {
     "name": "#%%\n"
    }
   }
  },
  {
   "cell_type": "code",
   "execution_count": null,
   "outputs": [],
   "source": [
    "cols_to_drop = ['Group']\n",
    "# Сохранение в файл\n",
    "filename = f'../data/cols_to_drop'\n",
    "\n",
    "joblib.dump(cols_to_drop, filename)\n",
    "\n",
    "cols_full = list(df.columns)\n",
    "# Сохранение в файл\n",
    "filename = f'../data/cols_full'\n",
    "\n",
    "joblib.dump(cols_full, filename)"
   ],
   "metadata": {
    "collapsed": false,
    "pycharm": {
     "name": "#%%\n"
    }
   }
  },
  {
   "cell_type": "code",
   "execution_count": 369,
   "outputs": [],
   "source": [
    "df = df.drop(index=sample.index)\n",
    "df.to_csv('../data/train.csv', index=False)"
   ],
   "metadata": {
    "collapsed": false,
    "pycharm": {
     "name": "#%%\n"
    }
   }
  },
  {
   "cell_type": "code",
   "execution_count": 364,
   "outputs": [
    {
     "data": {
      "text/plain": "     id  SentMessages  ReceivedMessages  MessagesOutsideWorkHours  \\\n0  1000            71                87                         2   \n1  1001            68                61                         2   \n2  1002            66                83                         2   \n3  1003            73               110                         2   \n4  1004            61                84                         2   \n\n   SentFrequency  ReceivedFrequency  SentReceivedRatio  UniqueRecipients  \\\n0             13                 17           1.208333                 9   \n1             15                 14           0.884058                 8   \n2             14                 11           1.238806                 9   \n3             11                 19           1.486486                 5   \n4             13                 13           1.354839                 2   \n\n   HiddenCopy  CarbonCopy  ...  UnansweredMessages  UnrepliedMessages  \\\n0           2           5  ...                  11                 10   \n1           1           4  ...                  14                 10   \n2           1           3  ...                  10                 11   \n3           1           4  ...                  12                  3   \n4           1           1  ...                  10                  7   \n\n   MentionColleagues  MoodType  StressKeywordsPresent  SalaryChangeMentioned  \\\n0                  1         0                      2                      0   \n1                  2         0                      2                      0   \n2                  1         0                      0                      0   \n3                  2         1                      0                      0   \n4                  3         0                      1                      0   \n\n   VacationMentioned  PoliteMessage  Resigned                   Group  \n0                  1              0         0  Development Department  \n1                  1              0         0  Development Department  \n2                  0              0         1       IT Infrastructure  \n3                  0              0         1       Quality Assurance  \n4                  0              0         1       Quality Assurance  \n\n[5 rows x 27 columns]",
      "text/html": "<div>\n<style scoped>\n    .dataframe tbody tr th:only-of-type {\n        vertical-align: middle;\n    }\n\n    .dataframe tbody tr th {\n        vertical-align: top;\n    }\n\n    .dataframe thead th {\n        text-align: right;\n    }\n</style>\n<table border=\"1\" class=\"dataframe\">\n  <thead>\n    <tr style=\"text-align: right;\">\n      <th></th>\n      <th>id</th>\n      <th>SentMessages</th>\n      <th>ReceivedMessages</th>\n      <th>MessagesOutsideWorkHours</th>\n      <th>SentFrequency</th>\n      <th>ReceivedFrequency</th>\n      <th>SentReceivedRatio</th>\n      <th>UniqueRecipients</th>\n      <th>HiddenCopy</th>\n      <th>CarbonCopy</th>\n      <th>...</th>\n      <th>UnansweredMessages</th>\n      <th>UnrepliedMessages</th>\n      <th>MentionColleagues</th>\n      <th>MoodType</th>\n      <th>StressKeywordsPresent</th>\n      <th>SalaryChangeMentioned</th>\n      <th>VacationMentioned</th>\n      <th>PoliteMessage</th>\n      <th>Resigned</th>\n      <th>Group</th>\n    </tr>\n  </thead>\n  <tbody>\n    <tr>\n      <th>0</th>\n      <td>1000</td>\n      <td>71</td>\n      <td>87</td>\n      <td>2</td>\n      <td>13</td>\n      <td>17</td>\n      <td>1.208333</td>\n      <td>9</td>\n      <td>2</td>\n      <td>5</td>\n      <td>...</td>\n      <td>11</td>\n      <td>10</td>\n      <td>1</td>\n      <td>0</td>\n      <td>2</td>\n      <td>0</td>\n      <td>1</td>\n      <td>0</td>\n      <td>0</td>\n      <td>Development Department</td>\n    </tr>\n    <tr>\n      <th>1</th>\n      <td>1001</td>\n      <td>68</td>\n      <td>61</td>\n      <td>2</td>\n      <td>15</td>\n      <td>14</td>\n      <td>0.884058</td>\n      <td>8</td>\n      <td>1</td>\n      <td>4</td>\n      <td>...</td>\n      <td>14</td>\n      <td>10</td>\n      <td>2</td>\n      <td>0</td>\n      <td>2</td>\n      <td>0</td>\n      <td>1</td>\n      <td>0</td>\n      <td>0</td>\n      <td>Development Department</td>\n    </tr>\n    <tr>\n      <th>2</th>\n      <td>1002</td>\n      <td>66</td>\n      <td>83</td>\n      <td>2</td>\n      <td>14</td>\n      <td>11</td>\n      <td>1.238806</td>\n      <td>9</td>\n      <td>1</td>\n      <td>3</td>\n      <td>...</td>\n      <td>10</td>\n      <td>11</td>\n      <td>1</td>\n      <td>0</td>\n      <td>0</td>\n      <td>0</td>\n      <td>0</td>\n      <td>0</td>\n      <td>1</td>\n      <td>IT Infrastructure</td>\n    </tr>\n    <tr>\n      <th>3</th>\n      <td>1003</td>\n      <td>73</td>\n      <td>110</td>\n      <td>2</td>\n      <td>11</td>\n      <td>19</td>\n      <td>1.486486</td>\n      <td>5</td>\n      <td>1</td>\n      <td>4</td>\n      <td>...</td>\n      <td>12</td>\n      <td>3</td>\n      <td>2</td>\n      <td>1</td>\n      <td>0</td>\n      <td>0</td>\n      <td>0</td>\n      <td>0</td>\n      <td>1</td>\n      <td>Quality Assurance</td>\n    </tr>\n    <tr>\n      <th>4</th>\n      <td>1004</td>\n      <td>61</td>\n      <td>84</td>\n      <td>2</td>\n      <td>13</td>\n      <td>13</td>\n      <td>1.354839</td>\n      <td>2</td>\n      <td>1</td>\n      <td>1</td>\n      <td>...</td>\n      <td>10</td>\n      <td>7</td>\n      <td>3</td>\n      <td>0</td>\n      <td>1</td>\n      <td>0</td>\n      <td>0</td>\n      <td>0</td>\n      <td>1</td>\n      <td>Quality Assurance</td>\n    </tr>\n  </tbody>\n</table>\n<p>5 rows × 27 columns</p>\n</div>"
     },
     "execution_count": 364,
     "metadata": {},
     "output_type": "execute_result"
    }
   ],
   "source": [
    "df.head()"
   ],
   "metadata": {
    "collapsed": false,
    "pycharm": {
     "name": "#%%\n"
    }
   }
  },
  {
   "cell_type": "code",
   "execution_count": 127,
   "outputs": [],
   "source": [
    "sample = df.sample(n=1, random_state=42).drop(columns=['Resigned', 'SentMessages'])\n",
    "sample.to_csv('../data/test_not_valid.csv', index=False)"
   ],
   "metadata": {
    "collapsed": false,
    "pycharm": {
     "name": "#%%\n"
    }
   }
  }
 ],
 "metadata": {
  "kernelspec": {
   "display_name": "Python 3",
   "language": "python",
   "name": "python3"
  },
  "language_info": {
   "codemirror_mode": {
    "name": "ipython",
    "version": 2
   },
   "file_extension": ".py",
   "mimetype": "text/x-python",
   "name": "python",
   "nbconvert_exporter": "python",
   "pygments_lexer": "ipython2",
   "version": "2.7.6"
  }
 },
 "nbformat": 4,
 "nbformat_minor": 0
}