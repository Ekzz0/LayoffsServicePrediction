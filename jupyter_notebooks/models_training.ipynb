{
 "cells": [
  {
   "cell_type": "code",
   "execution_count": 42,
   "outputs": [],
   "source": [
    "import joblib as joblib\n",
    "from sklearn.linear_model import LogisticRegression\n",
    "from sklearn.svm import SVC\n",
    "from sklearn.neighbors import KNeighborsClassifier\n",
    "from sklearn.tree import DecisionTreeClassifier\n",
    "from sklearn.ensemble import RandomForestClassifier\n",
    "\n",
    "from sklearn.metrics import roc_auc_score, classification_report\n",
    "from sklearn.model_selection import train_test_split\n",
    "import numpy as np\n",
    "\n",
    "import xgboost as xgb\n",
    "import ML.utils as ut\n",
    "import pandas as pd\n",
    "import joblib"
   ],
   "metadata": {
    "collapsed": false,
    "pycharm": {
     "name": "#%%\n"
    }
   }
  },
  {
   "cell_type": "markdown",
   "source": [],
   "metadata": {
    "collapsed": false,
    "pycharm": {
     "name": "#%% md\n"
    }
   }
  },
  {
   "cell_type": "code",
   "execution_count": null,
   "outputs": [],
   "source": [
    "cols_to_drop = joblib.load(f'../data/cols_to_drop')"
   ],
   "metadata": {
    "collapsed": false,
    "pycharm": {
     "name": "#%%\n"
    }
   }
  },
  {
   "cell_type": "code",
   "execution_count": null,
   "outputs": [],
   "source": [
    "df = pd.read_csv('../data/train.csv').drop(columns=cols_to_drop)\n",
    "ID = df['id']\n",
    "df.drop(['id'], axis=1, inplace=True)"
   ],
   "metadata": {
    "collapsed": false,
    "pycharm": {
     "name": "#%%\n"
    }
   }
  },
  {
   "cell_type": "code",
   "execution_count": null,
   "outputs": [],
   "source": [
    "from ML.APP.data_processing import split_to_x_y\n",
    "\n",
    "# Разделяем датасет на X, y\n",
    "X, y = split_to_x_y(df, 'Resigned')\n",
    "\n",
    "X_train, X_test, y_train, y_test = train_test_split(X, y, test_size = 0.3, random_state = 42)"
   ],
   "metadata": {
    "collapsed": false,
    "pycharm": {
     "name": "#%%\n"
    }
   }
  },
  {
   "cell_type": "code",
   "execution_count": null,
   "outputs": [],
   "source": [
    "def fit_predict(model, eval_data):\n",
    "    try:\n",
    "        model = model(n_jobs=-1)\n",
    "    except TypeError:\n",
    "        model = model(random_state=42)\n",
    "    finally:\n",
    "        X_train = eval_data['X_train'] if type(eval_data['X_train']) == np.ndarray else eval_data['X_train'].values\n",
    "        y_train = eval_data['y_train'] if type(eval_data['y_train']) == np.ndarray else eval_data['y_train'].values\n",
    "        X_test = eval_data['X_test'] if type(eval_data['X_test']) == np.ndarray else eval_data['X_test'].values\n",
    "\n",
    "        model.fit(X_train, y_train.ravel())\n",
    "        pred = model.predict(X_test)\n",
    "        return model, pred"
   ],
   "metadata": {
    "collapsed": false,
    "pycharm": {
     "name": "#%%\n"
    }
   }
  },
  {
   "cell_type": "code",
   "execution_count": null,
   "outputs": [],
   "source": [
    "eval_data = {'X_train': X_train, 'X_test': X_test, 'y_train': y_train, 'y_test': y_test}\n",
    "models = [LogisticRegression, KNeighborsClassifier, SVC, RandomForestClassifier, xgb.XGBClassifier]\n",
    "max_evals = len(models)\n",
    "metric = roc_auc_score  # f1_score, roc_auc_score, accuracy_score\n",
    "metrics = []\n",
    "fitted_models = []\n",
    "\n",
    "for model in models:\n",
    "    model_fitted, pred = fit_predict(model, eval_data)\n",
    "\n",
    "    metrics.append(metric(eval_data['y_test'].values.ravel(), pred))\n",
    "    fitted_models.append(model_fitted)"
   ],
   "metadata": {
    "collapsed": false,
    "pycharm": {
     "name": "#%%\n"
    }
   }
  },
  {
   "cell_type": "code",
   "execution_count": null,
   "outputs": [],
   "source": [
    "models_names = ['LogReg', 'kNN', 'SVC', 'RandomForest', 'XGBoost']\n",
    "ut.plot_metrics_hist(models_names, metrics)"
   ],
   "metadata": {
    "collapsed": false,
    "pycharm": {
     "name": "#%%\n"
    }
   }
  },
  {
   "cell_type": "code",
   "execution_count": null,
   "outputs": [],
   "source": [
    "best_metric = max(metrics)\n",
    "best_model_name = models_names[metrics.index(best_metric)]\n",
    "best_model = fitted_models[metrics.index(best_metric)]\n",
    "\n",
    "print('Best Model:', best_model_name)\n",
    "print('Best Metric, ROC_AUC_SCORE:', round(best_metric, 4))\n",
    "print(classification_report(y_true=y_test, y_pred=best_model.predict(X_test.values)))"
   ],
   "metadata": {
    "collapsed": false,
    "pycharm": {
     "name": "#%%\n"
    }
   }
  },
  {
   "cell_type": "code",
   "execution_count": null,
   "outputs": [],
   "source": [
    "import joblib\n",
    "\n",
    "# Сохранение модели в файл\n",
    "filename = f'../ML/models/{best_model_name}.pkl'\n",
    "joblib.dump(best_model, filename)"
   ],
   "metadata": {
    "collapsed": false,
    "pycharm": {
     "name": "#%%\n"
    }
   }
  },
  {
   "cell_type": "code",
   "execution_count": null,
   "outputs": [],
   "source": [
    "from matplotlib import pyplot as plt\n",
    "\n",
    "ut.plot_feature_importance(best_model.feature_importances_,X_train.columns, best_model_name)\n",
    "\n",
    "plt.savefig('../data/img/XGB.png', bbox_inches=\"tight\")"
   ],
   "metadata": {
    "collapsed": false,
    "pycharm": {
     "name": "#%%\n"
    }
   }
  },
  {
   "cell_type": "code",
   "execution_count": null,
   "outputs": [],
   "source": [
    "rf = RandomForestClassifier()\n",
    "rf.fit(eval_data['X_train'], eval_data['y_train'])\n",
    "\n",
    "# Сохранение модели в файл\n",
    "filename = f'../ML/models/RandomForest.pkl'\n",
    "joblib.dump(rf, filename)"
   ],
   "metadata": {
    "collapsed": false,
    "pycharm": {
     "name": "#%%\n"
    }
   }
  },
  {
   "cell_type": "code",
   "execution_count": null,
   "outputs": [],
   "source": [
    "classification_report(eval_data['y_test'], best_model.predict(X_test.values),  output_dict=True)"
   ],
   "metadata": {
    "collapsed": false,
    "pycharm": {
     "name": "#%%\n"
    }
   }
  },
  {
   "cell_type": "code",
   "execution_count": 54,
   "outputs": [
    {
     "data": {
      "text/plain": "{'0': {'precision': 0.9866666666666667,\n  'recall': 0.9906291834002677,\n  'f1-score': 0.9886439545758183,\n  'support': 747.0},\n '1': {'precision': 0.9513888888888888,\n  'recall': 0.9319727891156463,\n  'f1-score': 0.9415807560137457,\n  'support': 147.0},\n 'accuracy': 0.9809843400447428,\n 'macro avg': {'precision': 0.9690277777777778,\n  'recall': 0.961300986257957,\n  'f1-score': 0.965112355294782,\n  'support': 894.0},\n 'weighted avg': {'precision': 0.9808659582401192,\n  'recall': 0.9809843400447428,\n  'f1-score': 0.9809053749464842,\n  'support': 894.0}}"
     },
     "execution_count": 54,
     "metadata": {},
     "output_type": "execute_result"
    }
   ],
   "source": [
    "classification_report(eval_data['y_test'], best_model.predict(X_test.values),  output_dict=True)"
   ],
   "metadata": {
    "collapsed": false,
    "pycharm": {
     "name": "#%%\n"
    }
   }
  },
  {
   "cell_type": "code",
   "execution_count": null,
   "outputs": [],
   "source": [],
   "metadata": {
    "collapsed": false,
    "pycharm": {
     "name": "#%%\n"
    }
   }
  }
 ],
 "metadata": {
  "kernelspec": {
   "display_name": "Python 3",
   "language": "python",
   "name": "python3"
  },
  "language_info": {
   "codemirror_mode": {
    "name": "ipython",
    "version": 2
   },
   "file_extension": ".py",
   "mimetype": "text/x-python",
   "name": "python",
   "nbconvert_exporter": "python",
   "pygments_lexer": "ipython2",
   "version": "2.7.6"
  }
 },
 "nbformat": 4,
 "nbformat_minor": 0
}